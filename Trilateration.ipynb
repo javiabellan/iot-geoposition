{
 "cells": [
  {
   "cell_type": "markdown",
   "metadata": {},
   "source": [
    "### [link 1](https://www.alanzucconi.com/2017/03/13/positioning-and-trilateration/)\n",
    "### [Github example](https://github.com/BrianSanderson/trilateration)"
   ]
  },
  {
   "cell_type": "markdown",
   "metadata": {},
   "source": [
    "# Import libraries"
   ]
  },
  {
   "cell_type": "code",
   "execution_count": 1,
   "metadata": {},
   "outputs": [
    {
     "name": "stdout",
     "output_type": "stream",
     "text": [
      "Pandas: 0.25.2\n",
      "Altair: 4.0.0\n",
      "Folium: 0.10.1\n"
     ]
    }
   ],
   "source": [
    "import pandas as pd\n",
    "import altair as alt\n",
    "import folium\n",
    "\n",
    "print(\"Pandas:\", pd.__version__)\n",
    "print(\"Altair:\", alt.__version__)\n",
    "print(\"Folium:\", folium.__version__)\n",
    "\n",
    "#alt.renderers.enable('notebook')"
   ]
  },
  {
   "cell_type": "markdown",
   "metadata": {},
   "source": [
    "# Data: Acces Points locations"
   ]
  },
  {
   "cell_type": "code",
   "execution_count": 2,
   "metadata": {},
   "outputs": [
    {
     "data": {
      "text/html": [
       "<div>\n",
       "<style scoped>\n",
       "    .dataframe tbody tr th:only-of-type {\n",
       "        vertical-align: middle;\n",
       "    }\n",
       "\n",
       "    .dataframe tbody tr th {\n",
       "        vertical-align: top;\n",
       "    }\n",
       "\n",
       "    .dataframe thead th {\n",
       "        text-align: right;\n",
       "    }\n",
       "</style>\n",
       "<table border=\"1\" class=\"dataframe\">\n",
       "  <thead>\n",
       "    <tr style=\"text-align: right;\">\n",
       "      <th></th>\n",
       "      <th>lat</th>\n",
       "      <th>lon</th>\n",
       "      <th>d1</th>\n",
       "      <th>d2</th>\n",
       "      <th>d3</th>\n",
       "      <th>d4</th>\n",
       "      <th>d5</th>\n",
       "    </tr>\n",
       "  </thead>\n",
       "  <tbody>\n",
       "    <tr>\n",
       "      <th>0</th>\n",
       "      <td>38.025636</td>\n",
       "      <td>-1.167866</td>\n",
       "      <td>2.59</td>\n",
       "      <td>4.81</td>\n",
       "      <td>2.34</td>\n",
       "      <td>4.10</td>\n",
       "      <td>2.10</td>\n",
       "    </tr>\n",
       "    <tr>\n",
       "      <th>1</th>\n",
       "      <td>38.025966</td>\n",
       "      <td>-1.167997</td>\n",
       "      <td>5.27</td>\n",
       "      <td>0.83</td>\n",
       "      <td>4.95</td>\n",
       "      <td>1.34</td>\n",
       "      <td>5.24</td>\n",
       "    </tr>\n",
       "    <tr>\n",
       "      <th>2</th>\n",
       "      <td>38.025754</td>\n",
       "      <td>-1.167404</td>\n",
       "      <td>3.38</td>\n",
       "      <td>7.08</td>\n",
       "      <td>3.51</td>\n",
       "      <td>6.35</td>\n",
       "      <td>3.85</td>\n",
       "    </tr>\n",
       "  </tbody>\n",
       "</table>\n",
       "</div>"
      ],
      "text/plain": [
       "         lat       lon    d1    d2    d3    d4    d5\n",
       "0  38.025636 -1.167866  2.59  4.81  2.34  4.10  2.10\n",
       "1  38.025966 -1.167997  5.27  0.83  4.95  1.34  5.24\n",
       "2  38.025754 -1.167404  3.38  7.08  3.51  6.35  3.85"
      ]
     },
     "execution_count": 2,
     "metadata": {},
     "output_type": "execute_result"
    }
   ],
   "source": [
    "# USA\n",
    "accesPoints_locations = pd.DataFrame({\n",
    "    'lat': [37.293064,  37.293014,  37.293053],\n",
    "    'lon': [-80.683356, -80.683358, -80.683294]\n",
    "})\n",
    "\n",
    "# Paque cientifico\n",
    "accesPoints_locations = pd.DataFrame({\n",
    "    'lat': [38.025636, 38.025966, 38.025754],\n",
    "    'lon': [-1.167866, -1.167997, -1.167404],\n",
    "    \"d1\": [2.59, 5.27, 3.38],\n",
    "    \"d2\": [4.81, 0.83, 7.08],\n",
    "    \"d3\": [2.34, 4.95, 3.51],\n",
    "    \"d4\": [4.10, 1.34, 6.35],\n",
    "    \"d5\": [2.10, 5.24, 3.85]\n",
    "})\n",
    "accesPoints_locations"
   ]
  },
  {
   "cell_type": "code",
   "execution_count": 3,
   "metadata": {},
   "outputs": [
    {
     "data": {
      "text/html": [
       "\n",
       "<div id=\"altair-viz-1\"></div>\n",
       "<script type=\"text/javascript\">\n",
       "  (function(spec, embedOpt){\n",
       "    const outputDiv = document.getElementById(\"altair-viz-1\");\n",
       "    const paths = {\n",
       "      \"vega\": \"https://cdn.jsdelivr.net/npm//vega@5?noext\",\n",
       "      \"vega-lib\": \"https://cdn.jsdelivr.net/npm//vega-lib?noext\",\n",
       "      \"vega-lite\": \"https://cdn.jsdelivr.net/npm//vega-lite@4.0.0?noext\",\n",
       "      \"vega-embed\": \"https://cdn.jsdelivr.net/npm//vega-embed@6?noext\",\n",
       "    };\n",
       "\n",
       "    function loadScript(lib) {\n",
       "      return new Promise(function(resolve, reject) {\n",
       "        var s = document.createElement('script');\n",
       "        s.src = paths[lib];\n",
       "        s.async = true;\n",
       "        s.onload = () => resolve(paths[lib]);\n",
       "        s.onerror = () => reject(`Error loading script: ${paths[lib]}`);\n",
       "        document.getElementsByTagName(\"head\")[0].appendChild(s);\n",
       "      });\n",
       "    }\n",
       "\n",
       "    function showError(err) {\n",
       "      outputDiv.innerHTML = `<div class=\"error\" style=\"color:red;\">${err}</div>`;\n",
       "      throw err;\n",
       "    }\n",
       "\n",
       "    function displayChart(vegaEmbed) {\n",
       "      vegaEmbed(outputDiv, spec, embedOpt)\n",
       "        .catch(err => showError(`Javascript Error: ${err.message}<br>This usually means there's a typo in your chart specification. See the javascript console for the full traceback.`));\n",
       "    }\n",
       "\n",
       "    if(typeof define === \"function\" && define.amd) {\n",
       "      requirejs.config({paths});\n",
       "      require([\"vega-embed\"], displayChart, err => showError(`Error loading script: ${err.message}`));\n",
       "    } else if (typeof vegaEmbed === \"function\") {\n",
       "      displayChart(vegaEmbed);\n",
       "    } else {\n",
       "      loadScript(\"vega\")\n",
       "        .then(() => loadScript(\"vega-lite\"))\n",
       "        .then(() => loadScript(\"vega-embed\"))\n",
       "        .catch(showError)\n",
       "        .then(() => displayChart(vegaEmbed));\n",
       "    }\n",
       "  })({\"config\": {\"view\": {\"continuousWidth\": 400, \"continuousHeight\": 300}}, \"data\": {\"name\": \"data-208132b53575801436a8220b000e0684\"}, \"mark\": \"point\", \"encoding\": {\"x\": {\"type\": \"quantitative\", \"field\": \"lon\", \"scale\": {\"zero\": false}}, \"y\": {\"type\": \"quantitative\", \"field\": \"lat\", \"scale\": {\"zero\": false}}}, \"$schema\": \"https://vega.github.io/schema/vega-lite/v4.0.0.json\", \"datasets\": {\"data-208132b53575801436a8220b000e0684\": [{\"lat\": 38.025636, \"lon\": -1.167866, \"d1\": 2.59, \"d2\": 4.81, \"d3\": 2.34, \"d4\": 4.1, \"d5\": 2.1}, {\"lat\": 38.025966, \"lon\": -1.167997, \"d1\": 5.27, \"d2\": 0.83, \"d3\": 4.95, \"d4\": 1.34, \"d5\": 5.24}, {\"lat\": 38.025754, \"lon\": -1.167404, \"d1\": 3.38, \"d2\": 7.08, \"d3\": 3.51, \"d4\": 6.35, \"d5\": 3.85}]}}, {\"mode\": \"vega-lite\"});\n",
       "</script>"
      ],
      "text/plain": [
       "alt.Chart(...)"
      ]
     },
     "execution_count": 3,
     "metadata": {},
     "output_type": "execute_result"
    }
   ],
   "source": [
    "alt.Chart(accesPoints_locations).mark_point().encode(\n",
    "    x=alt.X('lon:Q', scale=alt.Scale(zero=False)),\n",
    "    y=alt.Y('lat:Q', scale=alt.Scale(zero=False))\n",
    ")"
   ]
  },
  {
   "cell_type": "code",
   "execution_count": 4,
   "metadata": {},
   "outputs": [
    {
     "data": {
      "text/html": [
       "\n",
       "        <iframe\n",
       "            width=\"100%\"\n",
       "            height=\"400px\"\n",
       "            src=\"mapp.html\"\n",
       "            frameborder=\"0\"\n",
       "            allowfullscreen\n",
       "        ></iframe>\n",
       "        "
      ],
      "text/plain": [
       "<IPython.lib.display.IFrame at 0x7fb10858ca10>"
      ]
     },
     "execution_count": 4,
     "metadata": {},
     "output_type": "execute_result"
    }
   ],
   "source": [
    "# Function for displaying the map\n",
    "def embed_map(m, file_name):\n",
    "    from IPython.display import IFrame\n",
    "    m.save(file_name)\n",
    "    return IFrame(file_name, width='100%', height='400px')\n",
    "\n",
    "# Create a map\n",
    "mapp = folium.Map(location=[38.025847, -1.167723], tiles='openstreetmap', zoom_start=50)\n",
    "\n",
    "# Add points to the map\n",
    "for idx, row in accesPoints_locations.iterrows():\n",
    "    folium.Marker([row['lat'], row['lon']]).add_to(mapp)\n",
    "    folium.Circle([row['lat'], row['lon']], radius=row['d1']*7).add_to(mapp)\n",
    "\n",
    "embed_map(mapp, 'mapp.html')"
   ]
  },
  {
   "cell_type": "code",
   "execution_count": 5,
   "metadata": {},
   "outputs": [
    {
     "data": {
      "text/html": [
       "\n",
       "        <iframe\n",
       "            width=\"100%\"\n",
       "            height=\"400px\"\n",
       "            src=\"mapp.html\"\n",
       "            frameborder=\"0\"\n",
       "            allowfullscreen\n",
       "        ></iframe>\n",
       "        "
      ],
      "text/plain": [
       "<IPython.lib.display.IFrame at 0x7fb10859b590>"
      ]
     },
     "execution_count": 5,
     "metadata": {},
     "output_type": "execute_result"
    }
   ],
   "source": [
    "# Create a map\n",
    "mapp = folium.Map(location=[38.025847, -1.167723], tiles='openstreetmap', zoom_start=50)\n",
    "\n",
    "# Add points to the map\n",
    "for idx, row in accesPoints_locations.iterrows():\n",
    "    folium.Marker([row['lat'], row['lon']]).add_to(mapp)\n",
    "    folium.Circle([row['lat'], row['lon']], radius=row['d2']*7).add_to(mapp)\n",
    "\n",
    "embed_map(mapp, 'mapp.html')"
   ]
  },
  {
   "cell_type": "code",
   "execution_count": 31,
   "metadata": {},
   "outputs": [],
   "source": [
    "from matplotlib.patches import Circle\n",
    "circle=Circle((0,0),2)\n",
    "plt.show();"
   ]
  },
  {
   "cell_type": "code",
   "execution_count": 7,
   "metadata": {},
   "outputs": [
    {
     "data": {
      "text/html": [
       "\n",
       "<div id=\"altair-viz-3\"></div>\n",
       "<script type=\"text/javascript\">\n",
       "  (function(spec, embedOpt){\n",
       "    const outputDiv = document.getElementById(\"altair-viz-3\");\n",
       "    const paths = {\n",
       "      \"vega\": \"https://cdn.jsdelivr.net/npm//vega@5?noext\",\n",
       "      \"vega-lib\": \"https://cdn.jsdelivr.net/npm//vega-lib?noext\",\n",
       "      \"vega-lite\": \"https://cdn.jsdelivr.net/npm//vega-lite@4.0.0?noext\",\n",
       "      \"vega-embed\": \"https://cdn.jsdelivr.net/npm//vega-embed@6?noext\",\n",
       "    };\n",
       "\n",
       "    function loadScript(lib) {\n",
       "      return new Promise(function(resolve, reject) {\n",
       "        var s = document.createElement('script');\n",
       "        s.src = paths[lib];\n",
       "        s.async = true;\n",
       "        s.onload = () => resolve(paths[lib]);\n",
       "        s.onerror = () => reject(`Error loading script: ${paths[lib]}`);\n",
       "        document.getElementsByTagName(\"head\")[0].appendChild(s);\n",
       "      });\n",
       "    }\n",
       "\n",
       "    function showError(err) {\n",
       "      outputDiv.innerHTML = `<div class=\"error\" style=\"color:red;\">${err}</div>`;\n",
       "      throw err;\n",
       "    }\n",
       "\n",
       "    function displayChart(vegaEmbed) {\n",
       "      vegaEmbed(outputDiv, spec, embedOpt)\n",
       "        .catch(err => showError(`Javascript Error: ${err.message}<br>This usually means there's a typo in your chart specification. See the javascript console for the full traceback.`));\n",
       "    }\n",
       "\n",
       "    if(typeof define === \"function\" && define.amd) {\n",
       "      requirejs.config({paths});\n",
       "      require([\"vega-embed\"], displayChart, err => showError(`Error loading script: ${err.message}`));\n",
       "    } else if (typeof vegaEmbed === \"function\") {\n",
       "      displayChart(vegaEmbed);\n",
       "    } else {\n",
       "      loadScript(\"vega\")\n",
       "        .then(() => loadScript(\"vega-lite\"))\n",
       "        .then(() => loadScript(\"vega-embed\"))\n",
       "        .catch(showError)\n",
       "        .then(() => displayChart(vegaEmbed));\n",
       "    }\n",
       "  })({\"config\": {\"view\": {\"continuousWidth\": 400, \"continuousHeight\": 300}}, \"data\": {\"name\": \"data-cb0310aa4edb013535d6c5644dbc0ae5\"}, \"mark\": \"point\", \"encoding\": {\"x\": {\"type\": \"quantitative\", \"field\": \"x\"}, \"y\": {\"type\": \"quantitative\", \"field\": \"y\"}}, \"$schema\": \"https://vega.github.io/schema/vega-lite/v4.0.0.json\", \"datasets\": {\"data-cb0310aa4edb013535d6c5644dbc0ae5\": [{\"x\": 0, \"y\": 0}, {\"x\": 0, \"y\": 10}, {\"x\": 10, \"y\": 0}]}}, {\"mode\": \"vega-lite\"});\n",
       "</script>"
      ],
      "text/plain": [
       "alt.Chart(...)"
      ]
     },
     "execution_count": 7,
     "metadata": {},
     "output_type": "execute_result"
    }
   ],
   "source": [
    "accesPoints_locations = pd.DataFrame({\n",
    "    'x': [0,  0, 10],\n",
    "    'y': [0, 10,  0]\n",
    "})\n",
    "alt.Chart(accesPoints_locations).mark_point().encode(\n",
    "    x=\"x\", y=\"y\"\n",
    ")"
   ]
  },
  {
   "cell_type": "code",
   "execution_count": 11,
   "metadata": {},
   "outputs": [
    {
     "data": {
      "text/html": [
       "<div>\n",
       "<style scoped>\n",
       "    .dataframe tbody tr th:only-of-type {\n",
       "        vertical-align: middle;\n",
       "    }\n",
       "\n",
       "    .dataframe tbody tr th {\n",
       "        vertical-align: top;\n",
       "    }\n",
       "\n",
       "    .dataframe thead th {\n",
       "        text-align: right;\n",
       "    }\n",
       "</style>\n",
       "<table border=\"1\" class=\"dataframe\">\n",
       "  <thead>\n",
       "    <tr style=\"text-align: right;\">\n",
       "      <th></th>\n",
       "      <th>x</th>\n",
       "      <th>y</th>\n",
       "      <th>d1</th>\n",
       "      <th>d2</th>\n",
       "    </tr>\n",
       "  </thead>\n",
       "  <tbody>\n",
       "    <tr>\n",
       "      <th>0</th>\n",
       "      <td>0</td>\n",
       "      <td>0</td>\n",
       "      <td>2.59</td>\n",
       "      <td>4.81</td>\n",
       "    </tr>\n",
       "    <tr>\n",
       "      <th>1</th>\n",
       "      <td>0</td>\n",
       "      <td>10</td>\n",
       "      <td>5.27</td>\n",
       "      <td>0.83</td>\n",
       "    </tr>\n",
       "    <tr>\n",
       "      <th>2</th>\n",
       "      <td>10</td>\n",
       "      <td>0</td>\n",
       "      <td>3.38</td>\n",
       "      <td>7.08</td>\n",
       "    </tr>\n",
       "  </tbody>\n",
       "</table>\n",
       "</div>"
      ],
      "text/plain": [
       "    x   y    d1    d2\n",
       "0   0   0  2.59  4.81\n",
       "1   0  10  5.27  0.83\n",
       "2  10   0  3.38  7.08"
      ]
     },
     "execution_count": 11,
     "metadata": {},
     "output_type": "execute_result"
    }
   ],
   "source": [
    "# Paque cientifico\n",
    "accesPoints_locations = pd.DataFrame({\n",
    "    'x':  [0,  0, 10],\n",
    "    'y':  [0, 10,  0],\n",
    "    \"d1\": [2.59, 5.27, 3.38],\n",
    "    \"d2\": [4.81, 0.83, 7.08]\n",
    "})\n",
    "accesPoints_locations"
   ]
  },
  {
   "cell_type": "code",
   "execution_count": 12,
   "metadata": {},
   "outputs": [
    {
     "data": {
      "text/html": [
       "\n",
       "<div id=\"altair-viz-4\"></div>\n",
       "<script type=\"text/javascript\">\n",
       "  (function(spec, embedOpt){\n",
       "    const outputDiv = document.getElementById(\"altair-viz-4\");\n",
       "    const paths = {\n",
       "      \"vega\": \"https://cdn.jsdelivr.net/npm//vega@5?noext\",\n",
       "      \"vega-lib\": \"https://cdn.jsdelivr.net/npm//vega-lib?noext\",\n",
       "      \"vega-lite\": \"https://cdn.jsdelivr.net/npm//vega-lite@4.0.0?noext\",\n",
       "      \"vega-embed\": \"https://cdn.jsdelivr.net/npm//vega-embed@6?noext\",\n",
       "    };\n",
       "\n",
       "    function loadScript(lib) {\n",
       "      return new Promise(function(resolve, reject) {\n",
       "        var s = document.createElement('script');\n",
       "        s.src = paths[lib];\n",
       "        s.async = true;\n",
       "        s.onload = () => resolve(paths[lib]);\n",
       "        s.onerror = () => reject(`Error loading script: ${paths[lib]}`);\n",
       "        document.getElementsByTagName(\"head\")[0].appendChild(s);\n",
       "      });\n",
       "    }\n",
       "\n",
       "    function showError(err) {\n",
       "      outputDiv.innerHTML = `<div class=\"error\" style=\"color:red;\">${err}</div>`;\n",
       "      throw err;\n",
       "    }\n",
       "\n",
       "    function displayChart(vegaEmbed) {\n",
       "      vegaEmbed(outputDiv, spec, embedOpt)\n",
       "        .catch(err => showError(`Javascript Error: ${err.message}<br>This usually means there's a typo in your chart specification. See the javascript console for the full traceback.`));\n",
       "    }\n",
       "\n",
       "    if(typeof define === \"function\" && define.amd) {\n",
       "      requirejs.config({paths});\n",
       "      require([\"vega-embed\"], displayChart, err => showError(`Error loading script: ${err.message}`));\n",
       "    } else if (typeof vegaEmbed === \"function\") {\n",
       "      displayChart(vegaEmbed);\n",
       "    } else {\n",
       "      loadScript(\"vega\")\n",
       "        .then(() => loadScript(\"vega-lite\"))\n",
       "        .then(() => loadScript(\"vega-embed\"))\n",
       "        .catch(showError)\n",
       "        .then(() => displayChart(vegaEmbed));\n",
       "    }\n",
       "  })({\"config\": {\"view\": {\"continuousWidth\": 400, \"continuousHeight\": 300}}, \"data\": {\"name\": \"data-68861cfadf4c9afec31e4ff3a0d8b991\"}, \"mark\": \"point\", \"encoding\": {\"size\": {\"type\": \"quantitative\", \"field\": \"d1\"}, \"x\": {\"type\": \"quantitative\", \"field\": \"x\"}, \"y\": {\"type\": \"quantitative\", \"field\": \"y\"}}, \"$schema\": \"https://vega.github.io/schema/vega-lite/v4.0.0.json\", \"datasets\": {\"data-68861cfadf4c9afec31e4ff3a0d8b991\": [{\"x\": 0, \"y\": 0, \"d1\": 2.59, \"d2\": 4.81}, {\"x\": 0, \"y\": 10, \"d1\": 5.27, \"d2\": 0.83}, {\"x\": 10, \"y\": 0, \"d1\": 3.38, \"d2\": 7.08}]}}, {\"mode\": \"vega-lite\"});\n",
       "</script>"
      ],
      "text/plain": [
       "alt.Chart(...)"
      ]
     },
     "execution_count": 12,
     "metadata": {},
     "output_type": "execute_result"
    }
   ],
   "source": [
    "import matplotlib.pyplot as plt"
   ]
  },
  {
   "cell_type": "code",
   "execution_count": null,
   "metadata": {},
   "outputs": [],
   "source": [
    "alt.Chart(source).mark_point().encode(\n",
    "    x='Horsepower',\n",
    "    y='Miles_per_Gallon',\n",
    "    size='Acceleration'\n",
    ")"
   ]
  },
  {
   "cell_type": "markdown",
   "metadata": {},
   "source": [
    "# Data: Distances"
   ]
  },
  {
   "cell_type": "code",
   "execution_count": 4,
   "metadata": {},
   "outputs": [
    {
     "data": {
      "text/html": [
       "<div>\n",
       "<style scoped>\n",
       "    .dataframe tbody tr th:only-of-type {\n",
       "        vertical-align: middle;\n",
       "    }\n",
       "\n",
       "    .dataframe tbody tr th {\n",
       "        vertical-align: top;\n",
       "    }\n",
       "\n",
       "    .dataframe thead th {\n",
       "        text-align: right;\n",
       "    }\n",
       "</style>\n",
       "<table border=\"1\" class=\"dataframe\">\n",
       "  <thead>\n",
       "    <tr style=\"text-align: right;\">\n",
       "      <th></th>\n",
       "      <th>a</th>\n",
       "      <th>b</th>\n",
       "      <th>c</th>\n",
       "    </tr>\n",
       "  </thead>\n",
       "  <tbody>\n",
       "    <tr>\n",
       "      <th>0</th>\n",
       "      <td>2.59</td>\n",
       "      <td>5.27</td>\n",
       "      <td>3.38</td>\n",
       "    </tr>\n",
       "    <tr>\n",
       "      <th>1</th>\n",
       "      <td>4.81</td>\n",
       "      <td>0.83</td>\n",
       "      <td>7.08</td>\n",
       "    </tr>\n",
       "    <tr>\n",
       "      <th>2</th>\n",
       "      <td>2.34</td>\n",
       "      <td>4.95</td>\n",
       "      <td>3.51</td>\n",
       "    </tr>\n",
       "    <tr>\n",
       "      <th>3</th>\n",
       "      <td>4.10</td>\n",
       "      <td>1.34</td>\n",
       "      <td>6.35</td>\n",
       "    </tr>\n",
       "    <tr>\n",
       "      <th>4</th>\n",
       "      <td>2.10</td>\n",
       "      <td>5.24</td>\n",
       "      <td>3.85</td>\n",
       "    </tr>\n",
       "  </tbody>\n",
       "</table>\n",
       "</div>"
      ],
      "text/plain": [
       "      a     b     c\n",
       "0  2.59  5.27  3.38\n",
       "1  4.81  0.83  7.08\n",
       "2  2.34  4.95  3.51\n",
       "3  4.10  1.34  6.35\n",
       "4  2.10  5.24  3.85"
      ]
     },
     "execution_count": 4,
     "metadata": {},
     "output_type": "execute_result"
    }
   ],
   "source": [
    "distances = pd.read_csv(\"distances.csv\")\n",
    "distances.head()"
   ]
  },
  {
   "cell_type": "code",
   "execution_count": 5,
   "metadata": {},
   "outputs": [
    {
     "data": {
      "text/html": [
       "\n",
       "<div id=\"altair-viz-2\"></div>\n",
       "<script type=\"text/javascript\">\n",
       "  (function(spec, embedOpt){\n",
       "    const outputDiv = document.getElementById(\"altair-viz-2\");\n",
       "    const paths = {\n",
       "      \"vega\": \"https://cdn.jsdelivr.net/npm//vega@5?noext\",\n",
       "      \"vega-lib\": \"https://cdn.jsdelivr.net/npm//vega-lib?noext\",\n",
       "      \"vega-lite\": \"https://cdn.jsdelivr.net/npm//vega-lite@4.0.0?noext\",\n",
       "      \"vega-embed\": \"https://cdn.jsdelivr.net/npm//vega-embed@6?noext\",\n",
       "    };\n",
       "\n",
       "    function loadScript(lib) {\n",
       "      return new Promise(function(resolve, reject) {\n",
       "        var s = document.createElement('script');\n",
       "        s.src = paths[lib];\n",
       "        s.async = true;\n",
       "        s.onload = () => resolve(paths[lib]);\n",
       "        s.onerror = () => reject(`Error loading script: ${paths[lib]}`);\n",
       "        document.getElementsByTagName(\"head\")[0].appendChild(s);\n",
       "      });\n",
       "    }\n",
       "\n",
       "    function showError(err) {\n",
       "      outputDiv.innerHTML = `<div class=\"error\" style=\"color:red;\">${err}</div>`;\n",
       "      throw err;\n",
       "    }\n",
       "\n",
       "    function displayChart(vegaEmbed) {\n",
       "      vegaEmbed(outputDiv, spec, embedOpt)\n",
       "        .catch(err => showError(`Javascript Error: ${err.message}<br>This usually means there's a typo in your chart specification. See the javascript console for the full traceback.`));\n",
       "    }\n",
       "\n",
       "    if(typeof define === \"function\" && define.amd) {\n",
       "      requirejs.config({paths});\n",
       "      require([\"vega-embed\"], displayChart, err => showError(`Error loading script: ${err.message}`));\n",
       "    } else if (typeof vegaEmbed === \"function\") {\n",
       "      displayChart(vegaEmbed);\n",
       "    } else {\n",
       "      loadScript(\"vega\")\n",
       "        .then(() => loadScript(\"vega-lite\"))\n",
       "        .then(() => loadScript(\"vega-embed\"))\n",
       "        .catch(showError)\n",
       "        .then(() => displayChart(vegaEmbed));\n",
       "    }\n",
       "  })({\"config\": {\"view\": {\"continuousWidth\": 400, \"continuousHeight\": 300}}, \"data\": {\"name\": \"data-25ea7f35e4b27aa2c8822cccda32f21c\"}, \"mark\": \"line\", \"encoding\": {\"x\": {\"type\": \"quantitative\", \"field\": \"index\"}, \"y\": {\"type\": \"quantitative\", \"field\": \"a\"}}, \"height\": 120, \"selection\": {\"selector001\": {\"type\": \"interval\", \"bind\": \"scales\", \"encodings\": [\"x\", \"y\"]}}, \"width\": 800, \"$schema\": \"https://vega.github.io/schema/vega-lite/v4.0.0.json\", \"datasets\": {\"data-25ea7f35e4b27aa2c8822cccda32f21c\": [{\"index\": 0, \"a\": 2.59, \"b\": 5.27, \"c\": 3.38}, {\"index\": 1, \"a\": 4.81, \"b\": 0.83, \"c\": 7.08}, {\"index\": 2, \"a\": 2.34, \"b\": 4.95, \"c\": 3.51}, {\"index\": 3, \"a\": 4.1, \"b\": 1.34, \"c\": 6.35}, {\"index\": 4, \"a\": 2.1, \"b\": 5.24, \"c\": 3.85}, {\"index\": 5, \"a\": 3.14, \"b\": 2.54, \"c\": 6.73}, {\"index\": 6, \"a\": 2.0, \"b\": 5.03, \"c\": 3.94}, {\"index\": 7, \"a\": 2.88, \"b\": 2.61, \"c\": 6.07}, {\"index\": 8, \"a\": 1.93, \"b\": 4.73, \"c\": 4.14}, {\"index\": 9, \"a\": 4.33, \"b\": 1.82, \"c\": 5.39}, {\"index\": 10, \"a\": 2.06, \"b\": 4.87, \"c\": 4.01}, {\"index\": 11, \"a\": 2.04, \"b\": 4.87, \"c\": 4.06}, {\"index\": 12, \"a\": 4.47, \"b\": 1.73, \"c\": 5.62}, {\"index\": 13, \"a\": 2.37, \"b\": 4.71, \"c\": 3.64}, {\"index\": 14, \"a\": 3.52, \"b\": 2.63, \"c\": 4.8}, {\"index\": 15, \"a\": 2.08, \"b\": 4.82, \"c\": 3.93}, {\"index\": 16, \"a\": 3.19, \"b\": 3.47, \"c\": 4.12}, {\"index\": 17, \"a\": 2.29, \"b\": 4.63, \"c\": 3.79}, {\"index\": 18, \"a\": 2.47, \"b\": 4.49, \"c\": 3.76}, {\"index\": 19, \"a\": 2.33, \"b\": 4.57, \"c\": 3.87}, {\"index\": 20, \"a\": 2.33, \"b\": 4.33, \"c\": 4.07}, {\"index\": 21, \"a\": 2.32, \"b\": 4.51, \"c\": 4.0}, {\"index\": 22, \"a\": 2.27, \"b\": 4.57, \"c\": 3.95}, {\"index\": 23, \"a\": 2.19, \"b\": 3.23, \"c\": 5.87}, {\"index\": 24, \"a\": 1.92, \"b\": 4.5, \"c\": 4.36}, {\"index\": 25, \"a\": 2.19, \"b\": 3.25, \"c\": 5.78}, {\"index\": 26, \"a\": 1.62, \"b\": 3.84, \"c\": 5.31}, {\"index\": 27, \"a\": 2.03, \"b\": 4.29, \"c\": 4.27}, {\"index\": 28, \"a\": 1.84, \"b\": 3.98, \"c\": 4.92}, {\"index\": 29, \"a\": 2.31, \"b\": 4.35, \"c\": 4.15}, {\"index\": 30, \"a\": 1.76, \"b\": 4.15, \"c\": 4.82}, {\"index\": 31, \"a\": 2.71, \"b\": 2.8, \"c\": 6.56}, {\"index\": 32, \"a\": 4.58, \"b\": 12.5, \"c\": 8.52}, {\"index\": 33, \"a\": 10.98, \"b\": 3.59, \"c\": 6.68}, {\"index\": 34, \"a\": 1.49, \"b\": 13.01, \"c\": 12.09}, {\"index\": 35, \"a\": 10.57, \"b\": 4.17, \"c\": 6.48}, {\"index\": 36, \"a\": 1.85, \"b\": 12.63, \"c\": 11.67}, {\"index\": 37, \"a\": 10.3, \"b\": 4.23, \"c\": 7.46}, {\"index\": 38, \"a\": 10.18, \"b\": 4.43, \"c\": 7.49}, {\"index\": 39, \"a\": 3.57, \"b\": 10.81, \"c\": 9.99}, {\"index\": 40, \"a\": 10.0, \"b\": 4.49, \"c\": 7.62}, {\"index\": 41, \"a\": 3.81, \"b\": 33.0, \"c\": 9.83}, {\"index\": 42, \"a\": 9.7, \"b\": 5.03, \"c\": 6.2}, {\"index\": 43, \"a\": 9.31, \"b\": 5.57, \"c\": 5.79}, {\"index\": 44, \"a\": 9.18, \"b\": 5.58, \"c\": 6.2}, {\"index\": 45, \"a\": 5.23, \"b\": 9.28, \"c\": 8.56}, {\"index\": 46, \"a\": 8.96, \"b\": 5.75, \"c\": 6.3}, {\"index\": 47, \"a\": 5.98, \"b\": 8.46, \"c\": 8.98}, {\"index\": 48, \"a\": 9.18, \"b\": 5.33, \"c\": 6.58}, {\"index\": 49, \"a\": 6.09, \"b\": 8.39, \"c\": 8.71}, {\"index\": 50, \"a\": 9.15, \"b\": 5.37, \"c\": 6.74}, {\"index\": 51, \"a\": 6.38, \"b\": 8.28, \"c\": 7.61}, {\"index\": 52, \"a\": 9.2, \"b\": 5.29, \"c\": 7.14}, {\"index\": 53, \"a\": 6.86, \"b\": 7.74, \"c\": 7.3}, {\"index\": 54, \"a\": 9.11, \"b\": 5.26, \"c\": 7.7}, {\"index\": 55, \"a\": 6.93, \"b\": 7.74, \"c\": 7.15}, {\"index\": 56, \"a\": 9.1, \"b\": 5.41, \"c\": 7.91}, {\"index\": 57, \"a\": 7.45, \"b\": 7.23, \"c\": 6.91}, {\"index\": 58, \"a\": 8.76, \"b\": 5.77, \"c\": 7.98}, {\"index\": 59, \"a\": 7.82, \"b\": 6.77, \"c\": 6.82}, {\"index\": 60, \"a\": 8.61, \"b\": 5.8, \"c\": 7.54}, {\"index\": 61, \"a\": 7.83, \"b\": 6.74, \"c\": 7.1}, {\"index\": 62, \"a\": 8.67, \"b\": 5.84, \"c\": 7.82}, {\"index\": 63, \"a\": 7.72, \"b\": 6.86, \"c\": 7.18}, {\"index\": 64, \"a\": 8.15, \"b\": 6.32, \"c\": 7.84}, {\"index\": 65, \"a\": 7.87, \"b\": 6.63, \"c\": 7.23}, {\"index\": 66, \"a\": 8.49, \"b\": 5.99, \"c\": 8.09}, {\"index\": 67, \"a\": 7.96, \"b\": 6.58, \"c\": 7.44}, {\"index\": 68, \"a\": 8.09, \"b\": 6.36, \"c\": 8.41}, {\"index\": 69, \"a\": 7.92, \"b\": 6.5, \"c\": 7.54}, {\"index\": 70, \"a\": 7.68, \"b\": 6.77, \"c\": 8.44}, {\"index\": 71, \"a\": 6.91, \"b\": 7.57, \"c\": 7.65}, {\"index\": 72, \"a\": 7.3, \"b\": 7.13, \"c\": 8.25}, {\"index\": 73, \"a\": 6.84, \"b\": 7.62, \"c\": 7.86}, {\"index\": 74, \"a\": 7.2, \"b\": 7.23, \"c\": 7.95}, {\"index\": 75, \"a\": 8.46, \"b\": 6.24, \"c\": 4.46}, {\"index\": 76, \"a\": 7.11, \"b\": 7.83, \"c\": 9.86}, {\"index\": 77, \"a\": 8.07, \"b\": 6.51, \"c\": 8.77}, {\"index\": 78, \"a\": 7.7, \"b\": 7.19, \"c\": 9.62}, {\"index\": 79, \"a\": 9.04, \"b\": 6.06, \"c\": 9.77}, {\"index\": 80, \"a\": 9.97, \"b\": 4.51, \"c\": 8.18}, {\"index\": 81, \"a\": 9.17, \"b\": 5.95, \"c\": 9.61}, {\"index\": 82, \"a\": 9.12, \"b\": 6.22, \"c\": 10.05}, {\"index\": 83, \"a\": 10.01, \"b\": 4.58, \"c\": 8.38}, {\"index\": 84, \"a\": 9.89, \"b\": 5.41, \"c\": 9.25}, {\"index\": 85, \"a\": 10.03, \"b\": 4.55, \"c\": 8.48}, {\"index\": 86, \"a\": 10.0, \"b\": 5.01, \"c\": 6.11}, {\"index\": 87, \"a\": 10.08, \"b\": 4.49, \"c\": 8.7}, {\"index\": 88, \"a\": 9.73, \"b\": 5.06, \"c\": 9.25}, {\"index\": 89, \"a\": 10.37, \"b\": 4.3, \"c\": 8.75}, {\"index\": 90, \"a\": 9.49, \"b\": 5.2, \"c\": 9.0}, {\"index\": 91, \"a\": 10.58, \"b\": 4.15, \"c\": 8.41}, {\"index\": 92, \"a\": 9.36, \"b\": 5.41, \"c\": 9.04}, {\"index\": 93, \"a\": 9.54, \"b\": 5.02, \"c\": 8.63}, {\"index\": 94, \"a\": 9.76, \"b\": 4.89, \"c\": 8.33}, {\"index\": 95, \"a\": 3.28, \"b\": 4.08, \"c\": 5.89}, {\"index\": 96, \"a\": 5.13, \"b\": 3.27, \"c\": 3.48}, {\"index\": 97, \"a\": 5.29, \"b\": 3.44, \"c\": 3.12}, {\"index\": 98, \"a\": 5.71, \"b\": 4.05, \"c\": 2.31}, {\"index\": 99, \"a\": 3.49, \"b\": 3.85, \"c\": 5.38}, {\"index\": 100, \"a\": 3.68, \"b\": 3.63, \"c\": 4.91}, {\"index\": 101, \"a\": 5.56, \"b\": 4.07, \"c\": 2.68}, {\"index\": 102, \"a\": 4.79, \"b\": 3.36, \"c\": 3.64}, {\"index\": 103, \"a\": 4.36, \"b\": 4.01, \"c\": 3.79}, {\"index\": 104, \"a\": 5.52, \"b\": 4.68, \"c\": 2.3}, {\"index\": 105, \"a\": 5.71, \"b\": 5.14, \"c\": 2.22}, {\"index\": 106, \"a\": 5.75, \"b\": 5.12, \"c\": 1.86}, {\"index\": 107, \"a\": 5.52, \"b\": 5.69, \"c\": 2.39}, {\"index\": 108, \"a\": 3.74, \"b\": 3.64, \"c\": 4.8}, {\"index\": 109, \"a\": 4.24, \"b\": 3.07, \"c\": 3.33}, {\"index\": 110, \"a\": 22.07, \"b\": 10.31, \"c\": 13.47}, {\"index\": 111, \"a\": 28.83, \"b\": 3.27, \"c\": 17.34}, {\"index\": 112, \"a\": 27.99, \"b\": 3.88, \"c\": 16.58}, {\"index\": 113, \"a\": 28.45, \"b\": 3.85, \"c\": 17.04}, {\"index\": 114, \"a\": 18.55, \"b\": 12.1, \"c\": 8.78}, {\"index\": 115, \"a\": 18.19, \"b\": 12.4, \"c\": 8.41}, {\"index\": 116, \"a\": 13.66, \"b\": 16.86, \"c\": 7.44}, {\"index\": 117, \"a\": 17.04, \"b\": 13.68, \"c\": 8.01}, {\"index\": 118, \"a\": 14.4, \"b\": 16.22, \"c\": 7.5}, {\"index\": 119, \"a\": 17.09, \"b\": 13.63, \"c\": 7.91}, {\"index\": 120, \"a\": 14.42, \"b\": 16.17, \"c\": 7.3}, {\"index\": 121, \"a\": 15.99, \"b\": 14.73, \"c\": 7.71}, {\"index\": 122, \"a\": 15.18, \"b\": 15.41, \"c\": 7.6}, {\"index\": 123, \"a\": 15.84, \"b\": 14.8, \"c\": 7.64}, {\"index\": 124, \"a\": 19.08, \"b\": 15.42, \"c\": 4.04}, {\"index\": 125, \"a\": 12.2, \"b\": 18.42, \"c\": 7.36}, {\"index\": 126, \"a\": 4.04, \"b\": 26.29, \"c\": 11.87}, {\"index\": 127, \"a\": 10.3, \"b\": 20.29, \"c\": 7.8}, {\"index\": 128, \"a\": 3.86, \"b\": 26.61, \"c\": 11.87}, {\"index\": 129, \"a\": 9.82, \"b\": 20.86, \"c\": 8.15}, {\"index\": 130, \"a\": 3.75, \"b\": 26.61, \"c\": 11.94}, {\"index\": 131, \"a\": 6.68, \"b\": 23.86, \"c\": 9.89}, {\"index\": 132, \"a\": 5.99, \"b\": 24.36, \"c\": 10.19}, {\"index\": 133, \"a\": 11.55, \"b\": 7.4, \"c\": 9.46}, {\"index\": 134, \"a\": 11.66, \"b\": 5.6, \"c\": 12.59}, {\"index\": 135, \"a\": 11.42, \"b\": 9.78, \"c\": 11.52}, {\"index\": 136, \"a\": 11.81, \"b\": 6.23, \"c\": 12.06}, {\"index\": 137, \"a\": 12.02, \"b\": 7.42, \"c\": 10.42}, {\"index\": 138, \"a\": 12.79, \"b\": 6.28, \"c\": 11.99}, {\"index\": 139, \"a\": 11.66, \"b\": 7.07, \"c\": 10.69}, {\"index\": 140, \"a\": 12.12, \"b\": 6.65, \"c\": 11.8}, {\"index\": 141, \"a\": 11.87, \"b\": 7.12, \"c\": 10.71}, {\"index\": 142, \"a\": 12.41, \"b\": 7.13, \"c\": 11.64}, {\"index\": 143, \"a\": 12.16, \"b\": 6.94, \"c\": 11.55}, {\"index\": 144, \"a\": 11.71, \"b\": 6.8, \"c\": 10.81}, {\"index\": 145, \"a\": 12.42, \"b\": 7.55, \"c\": 10.98}, {\"index\": 146, \"a\": 11.73, \"b\": 6.7, \"c\": 11.03}, {\"index\": 147, \"a\": 11.79, \"b\": 6.68, \"c\": 11.06}, {\"index\": 148, \"a\": 11.4, \"b\": 6.55, \"c\": 10.78}, {\"index\": 149, \"a\": 10.47, \"b\": 5.65, \"c\": 10.72}, {\"index\": 150, \"a\": 7.82, \"b\": 6.57, \"c\": 10.01}, {\"index\": 151, \"a\": 10.39, \"b\": 7.1, \"c\": 8.85}, {\"index\": 152, \"a\": 10.76, \"b\": 6.69, \"c\": 9.92}, {\"index\": 153, \"a\": 11.06, \"b\": 7.41, \"c\": 9.13}, {\"index\": 154, \"a\": 10.28, \"b\": 6.13, \"c\": 9.97}, {\"index\": 155, \"a\": 11.25, \"b\": 7.28, \"c\": 9.6}, {\"index\": 156, \"a\": 11.2, \"b\": 7.37, \"c\": 9.38}, {\"index\": 157, \"a\": 9.58, \"b\": 3.96, \"c\": 4.8}, {\"index\": 158, \"a\": 9.44, \"b\": 3.72, \"c\": 4.8}, {\"index\": 159, \"a\": 9.68, \"b\": 3.85, \"c\": 4.93}, {\"index\": 160, \"a\": 9.68, \"b\": 3.82, \"c\": 5.04}, {\"index\": 161, \"a\": 9.51, \"b\": 3.83, \"c\": 4.89}, {\"index\": 162, \"a\": 9.59, \"b\": 3.68, \"c\": 5.11}, {\"index\": 163, \"a\": 9.34, \"b\": 3.66, \"c\": 4.77}, {\"index\": 164, \"a\": 9.38, \"b\": 3.33, \"c\": 5.19}, {\"index\": 165, \"a\": 9.39, \"b\": 3.37, \"c\": 5.3}, {\"index\": 166, \"a\": 9.48, \"b\": 3.41, \"c\": 5.36}, {\"index\": 167, \"a\": 9.59, \"b\": 3.47, \"c\": 5.4}, {\"index\": 168, \"a\": 7.39, \"b\": 5.63, \"c\": 5.85}, {\"index\": 169, \"a\": 8.32, \"b\": 4.98, \"c\": 6.28}, {\"index\": 170, \"a\": 12.38, \"b\": 6.15, \"c\": 8.73}, {\"index\": 171, \"a\": 12.32, \"b\": 6.18, \"c\": 8.49}, {\"index\": 172, \"a\": 11.99, \"b\": 8.34, \"c\": 5.23}, {\"index\": 173, \"a\": 12.61, \"b\": 6.45, \"c\": 8.5}, {\"index\": 174, \"a\": 11.04, \"b\": 7.19, \"c\": 5.24}, {\"index\": 175, \"a\": 10.82, \"b\": 6.87, \"c\": 5.24}, {\"index\": 176, \"a\": 12.08, \"b\": 6.03, \"c\": 8.18}, {\"index\": 177, \"a\": 12.74, \"b\": 6.69, \"c\": 8.04}, {\"index\": 178, \"a\": 11.02, \"b\": 6.44, \"c\": 6.18}, {\"index\": 179, \"a\": 12.21, \"b\": 6.44, \"c\": 7.71}, {\"index\": 180, \"a\": 5.78, \"b\": 5.75, \"c\": 7.43}, {\"index\": 181, \"a\": 11.95, \"b\": 6.18, \"c\": 7.8}, {\"index\": 182, \"a\": 10.29, \"b\": 5.64, \"c\": 6.46}, {\"index\": 183, \"a\": 11.13, \"b\": 5.27, \"c\": 7.89}, {\"index\": 184, \"a\": 10.41, \"b\": 4.73, \"c\": 5.92}, {\"index\": 185, \"a\": 10.09, \"b\": 3.67, \"c\": 8.35}, {\"index\": 186, \"a\": 11.28, \"b\": 5.09, \"c\": 8.22}, {\"index\": 187, \"a\": 10.97, \"b\": 5.0, \"c\": 8.74}, {\"index\": 188, \"a\": 9.87, \"b\": 3.91, \"c\": 7.9}, {\"index\": 189, \"a\": 10.8, \"b\": 4.57, \"c\": 8.14}, {\"index\": 190, \"a\": 10.11, \"b\": 4.09, \"c\": 8.05}, {\"index\": 191, \"a\": 10.35, \"b\": 3.67, \"c\": 8.62}, {\"index\": 192, \"a\": 10.55, \"b\": 4.1, \"c\": 8.38}, {\"index\": 193, \"a\": 9.21, \"b\": 3.59, \"c\": 7.98}, {\"index\": 194, \"a\": 9.62, \"b\": 4.88, \"c\": 6.78}, {\"index\": 195, \"a\": 9.85, \"b\": 4.76, \"c\": 6.78}, {\"index\": 196, \"a\": 9.83, \"b\": 4.66, \"c\": 7.17}, {\"index\": 197, \"a\": 10.4, \"b\": 4.23, \"c\": 8.55}, {\"index\": 198, \"a\": 10.41, \"b\": 4.33, \"c\": 8.39}, {\"index\": 199, \"a\": 9.26, \"b\": 3.52, \"c\": 14.04}, {\"index\": 200, \"a\": 9.42, \"b\": 3.93, \"c\": 13.91}, {\"index\": 201, \"a\": 9.55, \"b\": 3.98, \"c\": 13.88}, {\"index\": 202, \"a\": 7.84, \"b\": 12.83, \"c\": 4.86}, {\"index\": 203, \"a\": 9.51, \"b\": 4.17, \"c\": 13.38}, {\"index\": 204, \"a\": 7.67, \"b\": 12.83, \"c\": 4.91}, {\"index\": 205, \"a\": 8.84, \"b\": 4.27, \"c\": 13.42}, {\"index\": 206, \"a\": 8.96, \"b\": 11.02, \"c\": 7.31}, {\"index\": 207, \"a\": 8.92, \"b\": 4.34, \"c\": 13.31}, {\"index\": 208, \"a\": 6.96, \"b\": 11.2, \"c\": 6.28}, {\"index\": 209, \"a\": 8.64, \"b\": 4.6, \"c\": 13.08}, {\"index\": 210, \"a\": 7.1, \"b\": 10.83, \"c\": 6.75}, {\"index\": 211, \"a\": 8.39, \"b\": 4.91, \"c\": 12.65}, {\"index\": 212, \"a\": 6.99, \"b\": 10.73, \"c\": 6.83}, {\"index\": 213, \"a\": 8.51, \"b\": 5.07, \"c\": 12.59}, {\"index\": 214, \"a\": 6.94, \"b\": 10.73, \"c\": 6.92}, {\"index\": 215, \"a\": 8.52, \"b\": 5.09, \"c\": 12.54}, {\"index\": 216, \"a\": 7.47, \"b\": 10.53, \"c\": 7.29}, {\"index\": 217, \"a\": 8.93, \"b\": 5.49, \"c\": 12.51}, {\"index\": 218, \"a\": 7.72, \"b\": 10.41, \"c\": 7.33}, {\"index\": 219, \"a\": 8.39, \"b\": 5.23, \"c\": 12.43}, {\"index\": 220, \"a\": 7.13, \"b\": 10.18, \"c\": 7.49}, {\"index\": 221, \"a\": 8.32, \"b\": 5.26, \"c\": 12.37}, {\"index\": 222, \"a\": 7.2, \"b\": 10.05, \"c\": 7.63}, {\"index\": 223, \"a\": 7.1, \"b\": 5.48, \"c\": 12.21}, {\"index\": 224, \"a\": 7.18, \"b\": 10.0, \"c\": 7.69}, {\"index\": 225, \"a\": 8.25, \"b\": 5.56, \"c\": 12.13}, {\"index\": 226, \"a\": 7.06, \"b\": 9.97, \"c\": 7.6}, {\"index\": 227, \"a\": 7.97, \"b\": 5.58, \"c\": 11.97}, {\"index\": 228, \"a\": 7.81, \"b\": 6.11, \"c\": 11.55}, {\"index\": 229, \"a\": 8.21, \"b\": 5.94, \"c\": 11.73}, {\"index\": 230, \"a\": 6.91, \"b\": 9.95, \"c\": 7.63}, {\"index\": 231, \"a\": 8.36, \"b\": 6.05, \"c\": 11.66}, {\"index\": 232, \"a\": 7.02, \"b\": 9.73, \"c\": 7.89}, {\"index\": 233, \"a\": 7.57, \"b\": 6.38, \"c\": 11.31}, {\"index\": 234, \"a\": 6.93, \"b\": 9.53, \"c\": 7.99}, {\"index\": 235, \"a\": 7.66, \"b\": 6.39, \"c\": 11.24}, {\"index\": 236, \"a\": 6.9, \"b\": 9.44, \"c\": 8.23}, {\"index\": 237, \"a\": 7.58, \"b\": 6.56, \"c\": 11.08}, {\"index\": 238, \"a\": 7.09, \"b\": 9.11, \"c\": 8.61}, {\"index\": 239, \"a\": 7.48, \"b\": 6.81, \"c\": 10.99}, {\"index\": 240, \"a\": 7.51, \"b\": 8.82, \"c\": 8.93}, {\"index\": 241, \"a\": 10.33, \"b\": 9.15, \"c\": 9.54}, {\"index\": 242, \"a\": 10.35, \"b\": 9.64, \"c\": 9.45}, {\"index\": 243, \"a\": 9.7, \"b\": 2.45, \"c\": 15.68}, {\"index\": 244, \"a\": 9.21, \"b\": 4.58, \"c\": 13.46}, {\"index\": 245, \"a\": 8.97, \"b\": 5.0, \"c\": 12.99}, {\"index\": 246, \"a\": 8.6, \"b\": 8.01, \"c\": 9.93}, {\"index\": 247, \"a\": 8.99, \"b\": 5.4, \"c\": 12.65}, {\"index\": 248, \"a\": 8.7, \"b\": 7.89, \"c\": 10.02}, {\"index\": 249, \"a\": 8.66, \"b\": 5.55, \"c\": 12.36}, {\"index\": 250, \"a\": 9.01, \"b\": 7.67, \"c\": 10.3}, {\"index\": 251, \"a\": 8.87, \"b\": 5.62, \"c\": 12.19}, {\"index\": 252, \"a\": 9.28, \"b\": 7.05, \"c\": 11.11}, {\"index\": 253, \"a\": 9.34, \"b\": 5.73, \"c\": 12.18}, {\"index\": 254, \"a\": 8.91, \"b\": 6.65, \"c\": 11.38}, {\"index\": 255, \"a\": 9.0, \"b\": 10.03, \"c\": 8.03}, {\"index\": 256, \"a\": 9.94, \"b\": 11.56, \"c\": 6.48}, {\"index\": 257, \"a\": 9.73, \"b\": 10.73, \"c\": 7.22}, {\"index\": 258, \"a\": 9.37, \"b\": 10.59, \"c\": 7.33}, {\"index\": 259, \"a\": 9.67, \"b\": 10.88, \"c\": 7.18}, {\"index\": 260, \"a\": 7.97, \"b\": 6.47, \"c\": 11.2}, {\"index\": 261, \"a\": 7.98, \"b\": 8.7, \"c\": 9.21}, {\"index\": 262, \"a\": 8.07, \"b\": 6.81, \"c\": 10.98}, {\"index\": 263, \"a\": 8.69, \"b\": 8.13, \"c\": 10.06}, {\"index\": 264, \"a\": 8.21, \"b\": 6.81, \"c\": 11.0}, {\"index\": 265, \"a\": 7.07, \"b\": 8.31, \"c\": 9.42}, {\"index\": 266, \"a\": 8.3, \"b\": 6.69, \"c\": 11.06}, {\"index\": 267, \"a\": 7.3, \"b\": 8.23, \"c\": 9.46}, {\"index\": 268, \"a\": 8.29, \"b\": 6.95, \"c\": 10.93}, {\"index\": 269, \"a\": 7.27, \"b\": 8.02, \"c\": 9.69}, {\"index\": 270, \"a\": 8.36, \"b\": 7.01, \"c\": 10.88}, {\"index\": 271, \"a\": 7.33, \"b\": 7.74, \"c\": 10.21}, {\"index\": 272, \"a\": 8.46, \"b\": 6.89, \"c\": 10.98}, {\"index\": 273, \"a\": 8.83, \"b\": 7.66, \"c\": 10.48}, {\"index\": 274, \"a\": 7.82, \"b\": 7.24, \"c\": 10.46}, {\"index\": 275, \"a\": 7.97, \"b\": 7.48, \"c\": 10.29}, {\"index\": 276, \"a\": 7.55, \"b\": 7.8, \"c\": 9.88}, {\"index\": 277, \"a\": 10.02, \"b\": 14.83, \"c\": 3.77}, {\"index\": 278, \"a\": 10.56, \"b\": 14.86, \"c\": 4.28}, {\"index\": 279, \"a\": 10.85, \"b\": 14.95, \"c\": 4.58}, {\"index\": 280, \"a\": 11.85, \"b\": 5.95, \"c\": 10.35}, {\"index\": 281, \"a\": 11.86, \"b\": 7.05, \"c\": 8.8}, {\"index\": 282, \"a\": 9.78, \"b\": 6.72, \"c\": 7.02}, {\"index\": 283, \"a\": 11.49, \"b\": 4.84, \"c\": 10.75}, {\"index\": 284, \"a\": 10.11, \"b\": 7.27, \"c\": 6.65}, {\"index\": 285, \"a\": 11.26, \"b\": 3.98, \"c\": 11.48}, {\"index\": 286, \"a\": 10.84, \"b\": 3.68, \"c\": 11.22}, {\"index\": 287, \"a\": 11.27, \"b\": 5.06, \"c\": 10.33}, {\"index\": 288, \"a\": 11.32, \"b\": 5.18, \"c\": 10.2}, {\"index\": 289, \"a\": 10.67, \"b\": 4.9, \"c\": 9.88}, {\"index\": 290, \"a\": 10.78, \"b\": 4.99, \"c\": 9.8}, {\"index\": 291, \"a\": 11.35, \"b\": 5.45, \"c\": 9.9}, {\"index\": 292, \"a\": 11.26, \"b\": 5.65, \"c\": 9.75}, {\"index\": 293, \"a\": 11.12, \"b\": 5.65, \"c\": 9.57}, {\"index\": 294, \"a\": 11.04, \"b\": 5.8, \"c\": 9.36}, {\"index\": 295, \"a\": 11.06, \"b\": 6.11, \"c\": 9.14}, {\"index\": 296, \"a\": 10.76, \"b\": 5.9, \"c\": 8.82}, {\"index\": 297, \"a\": 10.29, \"b\": 7.32, \"c\": 6.74}, {\"index\": 298, \"a\": 11.09, \"b\": 6.56, \"c\": 8.52}, {\"index\": 299, \"a\": 10.48, \"b\": 6.15, \"c\": 8.17}, {\"index\": 300, \"a\": 5.85, \"b\": 5.29, \"c\": 8.41}, {\"index\": 301, \"a\": 9.72, \"b\": 5.21, \"c\": 8.59}, {\"index\": 302, \"a\": 10.0, \"b\": 5.15, \"c\": 9.01}, {\"index\": 303, \"a\": 5.54, \"b\": 3.08, \"c\": 10.73}, {\"index\": 304, \"a\": 9.07, \"b\": 2.07, \"c\": 11.35}]}}, {\"mode\": \"vega-lite\"});\n",
       "</script>"
      ],
      "text/plain": [
       "alt.Chart(...)"
      ]
     },
     "execution_count": 5,
     "metadata": {},
     "output_type": "execute_result"
    }
   ],
   "source": [
    "alt.Chart(distances.reset_index(), width=800, height=120).mark_line().encode(x='index', y='a').interactive()"
   ]
  },
  {
   "cell_type": "code",
   "execution_count": 6,
   "metadata": {},
   "outputs": [
    {
     "data": {
      "text/html": [
       "\n",
       "<div id=\"altair-viz-3\"></div>\n",
       "<script type=\"text/javascript\">\n",
       "  (function(spec, embedOpt){\n",
       "    const outputDiv = document.getElementById(\"altair-viz-3\");\n",
       "    const paths = {\n",
       "      \"vega\": \"https://cdn.jsdelivr.net/npm//vega@5?noext\",\n",
       "      \"vega-lib\": \"https://cdn.jsdelivr.net/npm//vega-lib?noext\",\n",
       "      \"vega-lite\": \"https://cdn.jsdelivr.net/npm//vega-lite@4.0.0?noext\",\n",
       "      \"vega-embed\": \"https://cdn.jsdelivr.net/npm//vega-embed@6?noext\",\n",
       "    };\n",
       "\n",
       "    function loadScript(lib) {\n",
       "      return new Promise(function(resolve, reject) {\n",
       "        var s = document.createElement('script');\n",
       "        s.src = paths[lib];\n",
       "        s.async = true;\n",
       "        s.onload = () => resolve(paths[lib]);\n",
       "        s.onerror = () => reject(`Error loading script: ${paths[lib]}`);\n",
       "        document.getElementsByTagName(\"head\")[0].appendChild(s);\n",
       "      });\n",
       "    }\n",
       "\n",
       "    function showError(err) {\n",
       "      outputDiv.innerHTML = `<div class=\"error\" style=\"color:red;\">${err}</div>`;\n",
       "      throw err;\n",
       "    }\n",
       "\n",
       "    function displayChart(vegaEmbed) {\n",
       "      vegaEmbed(outputDiv, spec, embedOpt)\n",
       "        .catch(err => showError(`Javascript Error: ${err.message}<br>This usually means there's a typo in your chart specification. See the javascript console for the full traceback.`));\n",
       "    }\n",
       "\n",
       "    if(typeof define === \"function\" && define.amd) {\n",
       "      requirejs.config({paths});\n",
       "      require([\"vega-embed\"], displayChart, err => showError(`Error loading script: ${err.message}`));\n",
       "    } else if (typeof vegaEmbed === \"function\") {\n",
       "      displayChart(vegaEmbed);\n",
       "    } else {\n",
       "      loadScript(\"vega\")\n",
       "        .then(() => loadScript(\"vega-lite\"))\n",
       "        .then(() => loadScript(\"vega-embed\"))\n",
       "        .catch(showError)\n",
       "        .then(() => displayChart(vegaEmbed));\n",
       "    }\n",
       "  })({\"config\": {\"view\": {\"continuousWidth\": 400, \"continuousHeight\": 300}}, \"data\": {\"name\": \"data-25ea7f35e4b27aa2c8822cccda32f21c\"}, \"mark\": \"line\", \"encoding\": {\"x\": {\"type\": \"quantitative\", \"field\": \"index\"}, \"y\": {\"type\": \"quantitative\", \"field\": \"b\"}}, \"height\": 120, \"selection\": {\"selector002\": {\"type\": \"interval\", \"bind\": \"scales\", \"encodings\": [\"x\", \"y\"]}}, \"width\": 800, \"$schema\": \"https://vega.github.io/schema/vega-lite/v4.0.0.json\", \"datasets\": {\"data-25ea7f35e4b27aa2c8822cccda32f21c\": [{\"index\": 0, \"a\": 2.59, \"b\": 5.27, \"c\": 3.38}, {\"index\": 1, \"a\": 4.81, \"b\": 0.83, \"c\": 7.08}, {\"index\": 2, \"a\": 2.34, \"b\": 4.95, \"c\": 3.51}, {\"index\": 3, \"a\": 4.1, \"b\": 1.34, \"c\": 6.35}, {\"index\": 4, \"a\": 2.1, \"b\": 5.24, \"c\": 3.85}, {\"index\": 5, \"a\": 3.14, \"b\": 2.54, \"c\": 6.73}, {\"index\": 6, \"a\": 2.0, \"b\": 5.03, \"c\": 3.94}, {\"index\": 7, \"a\": 2.88, \"b\": 2.61, \"c\": 6.07}, {\"index\": 8, \"a\": 1.93, \"b\": 4.73, \"c\": 4.14}, {\"index\": 9, \"a\": 4.33, \"b\": 1.82, \"c\": 5.39}, {\"index\": 10, \"a\": 2.06, \"b\": 4.87, \"c\": 4.01}, {\"index\": 11, \"a\": 2.04, \"b\": 4.87, \"c\": 4.06}, {\"index\": 12, \"a\": 4.47, \"b\": 1.73, \"c\": 5.62}, {\"index\": 13, \"a\": 2.37, \"b\": 4.71, \"c\": 3.64}, {\"index\": 14, \"a\": 3.52, \"b\": 2.63, \"c\": 4.8}, {\"index\": 15, \"a\": 2.08, \"b\": 4.82, \"c\": 3.93}, {\"index\": 16, \"a\": 3.19, \"b\": 3.47, \"c\": 4.12}, {\"index\": 17, \"a\": 2.29, \"b\": 4.63, \"c\": 3.79}, {\"index\": 18, \"a\": 2.47, \"b\": 4.49, \"c\": 3.76}, {\"index\": 19, \"a\": 2.33, \"b\": 4.57, \"c\": 3.87}, {\"index\": 20, \"a\": 2.33, \"b\": 4.33, \"c\": 4.07}, {\"index\": 21, \"a\": 2.32, \"b\": 4.51, \"c\": 4.0}, {\"index\": 22, \"a\": 2.27, \"b\": 4.57, \"c\": 3.95}, {\"index\": 23, \"a\": 2.19, \"b\": 3.23, \"c\": 5.87}, {\"index\": 24, \"a\": 1.92, \"b\": 4.5, \"c\": 4.36}, {\"index\": 25, \"a\": 2.19, \"b\": 3.25, \"c\": 5.78}, {\"index\": 26, \"a\": 1.62, \"b\": 3.84, \"c\": 5.31}, {\"index\": 27, \"a\": 2.03, \"b\": 4.29, \"c\": 4.27}, {\"index\": 28, \"a\": 1.84, \"b\": 3.98, \"c\": 4.92}, {\"index\": 29, \"a\": 2.31, \"b\": 4.35, \"c\": 4.15}, {\"index\": 30, \"a\": 1.76, \"b\": 4.15, \"c\": 4.82}, {\"index\": 31, \"a\": 2.71, \"b\": 2.8, \"c\": 6.56}, {\"index\": 32, \"a\": 4.58, \"b\": 12.5, \"c\": 8.52}, {\"index\": 33, \"a\": 10.98, \"b\": 3.59, \"c\": 6.68}, {\"index\": 34, \"a\": 1.49, \"b\": 13.01, \"c\": 12.09}, {\"index\": 35, \"a\": 10.57, \"b\": 4.17, \"c\": 6.48}, {\"index\": 36, \"a\": 1.85, \"b\": 12.63, \"c\": 11.67}, {\"index\": 37, \"a\": 10.3, \"b\": 4.23, \"c\": 7.46}, {\"index\": 38, \"a\": 10.18, \"b\": 4.43, \"c\": 7.49}, {\"index\": 39, \"a\": 3.57, \"b\": 10.81, \"c\": 9.99}, {\"index\": 40, \"a\": 10.0, \"b\": 4.49, \"c\": 7.62}, {\"index\": 41, \"a\": 3.81, \"b\": 33.0, \"c\": 9.83}, {\"index\": 42, \"a\": 9.7, \"b\": 5.03, \"c\": 6.2}, {\"index\": 43, \"a\": 9.31, \"b\": 5.57, \"c\": 5.79}, {\"index\": 44, \"a\": 9.18, \"b\": 5.58, \"c\": 6.2}, {\"index\": 45, \"a\": 5.23, \"b\": 9.28, \"c\": 8.56}, {\"index\": 46, \"a\": 8.96, \"b\": 5.75, \"c\": 6.3}, {\"index\": 47, \"a\": 5.98, \"b\": 8.46, \"c\": 8.98}, {\"index\": 48, \"a\": 9.18, \"b\": 5.33, \"c\": 6.58}, {\"index\": 49, \"a\": 6.09, \"b\": 8.39, \"c\": 8.71}, {\"index\": 50, \"a\": 9.15, \"b\": 5.37, \"c\": 6.74}, {\"index\": 51, \"a\": 6.38, \"b\": 8.28, \"c\": 7.61}, {\"index\": 52, \"a\": 9.2, \"b\": 5.29, \"c\": 7.14}, {\"index\": 53, \"a\": 6.86, \"b\": 7.74, \"c\": 7.3}, {\"index\": 54, \"a\": 9.11, \"b\": 5.26, \"c\": 7.7}, {\"index\": 55, \"a\": 6.93, \"b\": 7.74, \"c\": 7.15}, {\"index\": 56, \"a\": 9.1, \"b\": 5.41, \"c\": 7.91}, {\"index\": 57, \"a\": 7.45, \"b\": 7.23, \"c\": 6.91}, {\"index\": 58, \"a\": 8.76, \"b\": 5.77, \"c\": 7.98}, {\"index\": 59, \"a\": 7.82, \"b\": 6.77, \"c\": 6.82}, {\"index\": 60, \"a\": 8.61, \"b\": 5.8, \"c\": 7.54}, {\"index\": 61, \"a\": 7.83, \"b\": 6.74, \"c\": 7.1}, {\"index\": 62, \"a\": 8.67, \"b\": 5.84, \"c\": 7.82}, {\"index\": 63, \"a\": 7.72, \"b\": 6.86, \"c\": 7.18}, {\"index\": 64, \"a\": 8.15, \"b\": 6.32, \"c\": 7.84}, {\"index\": 65, \"a\": 7.87, \"b\": 6.63, \"c\": 7.23}, {\"index\": 66, \"a\": 8.49, \"b\": 5.99, \"c\": 8.09}, {\"index\": 67, \"a\": 7.96, \"b\": 6.58, \"c\": 7.44}, {\"index\": 68, \"a\": 8.09, \"b\": 6.36, \"c\": 8.41}, {\"index\": 69, \"a\": 7.92, \"b\": 6.5, \"c\": 7.54}, {\"index\": 70, \"a\": 7.68, \"b\": 6.77, \"c\": 8.44}, {\"index\": 71, \"a\": 6.91, \"b\": 7.57, \"c\": 7.65}, {\"index\": 72, \"a\": 7.3, \"b\": 7.13, \"c\": 8.25}, {\"index\": 73, \"a\": 6.84, \"b\": 7.62, \"c\": 7.86}, {\"index\": 74, \"a\": 7.2, \"b\": 7.23, \"c\": 7.95}, {\"index\": 75, \"a\": 8.46, \"b\": 6.24, \"c\": 4.46}, {\"index\": 76, \"a\": 7.11, \"b\": 7.83, \"c\": 9.86}, {\"index\": 77, \"a\": 8.07, \"b\": 6.51, \"c\": 8.77}, {\"index\": 78, \"a\": 7.7, \"b\": 7.19, \"c\": 9.62}, {\"index\": 79, \"a\": 9.04, \"b\": 6.06, \"c\": 9.77}, {\"index\": 80, \"a\": 9.97, \"b\": 4.51, \"c\": 8.18}, {\"index\": 81, \"a\": 9.17, \"b\": 5.95, \"c\": 9.61}, {\"index\": 82, \"a\": 9.12, \"b\": 6.22, \"c\": 10.05}, {\"index\": 83, \"a\": 10.01, \"b\": 4.58, \"c\": 8.38}, {\"index\": 84, \"a\": 9.89, \"b\": 5.41, \"c\": 9.25}, {\"index\": 85, \"a\": 10.03, \"b\": 4.55, \"c\": 8.48}, {\"index\": 86, \"a\": 10.0, \"b\": 5.01, \"c\": 6.11}, {\"index\": 87, \"a\": 10.08, \"b\": 4.49, \"c\": 8.7}, {\"index\": 88, \"a\": 9.73, \"b\": 5.06, \"c\": 9.25}, {\"index\": 89, \"a\": 10.37, \"b\": 4.3, \"c\": 8.75}, {\"index\": 90, \"a\": 9.49, \"b\": 5.2, \"c\": 9.0}, {\"index\": 91, \"a\": 10.58, \"b\": 4.15, \"c\": 8.41}, {\"index\": 92, \"a\": 9.36, \"b\": 5.41, \"c\": 9.04}, {\"index\": 93, \"a\": 9.54, \"b\": 5.02, \"c\": 8.63}, {\"index\": 94, \"a\": 9.76, \"b\": 4.89, \"c\": 8.33}, {\"index\": 95, \"a\": 3.28, \"b\": 4.08, \"c\": 5.89}, {\"index\": 96, \"a\": 5.13, \"b\": 3.27, \"c\": 3.48}, {\"index\": 97, \"a\": 5.29, \"b\": 3.44, \"c\": 3.12}, {\"index\": 98, \"a\": 5.71, \"b\": 4.05, \"c\": 2.31}, {\"index\": 99, \"a\": 3.49, \"b\": 3.85, \"c\": 5.38}, {\"index\": 100, \"a\": 3.68, \"b\": 3.63, \"c\": 4.91}, {\"index\": 101, \"a\": 5.56, \"b\": 4.07, \"c\": 2.68}, {\"index\": 102, \"a\": 4.79, \"b\": 3.36, \"c\": 3.64}, {\"index\": 103, \"a\": 4.36, \"b\": 4.01, \"c\": 3.79}, {\"index\": 104, \"a\": 5.52, \"b\": 4.68, \"c\": 2.3}, {\"index\": 105, \"a\": 5.71, \"b\": 5.14, \"c\": 2.22}, {\"index\": 106, \"a\": 5.75, \"b\": 5.12, \"c\": 1.86}, {\"index\": 107, \"a\": 5.52, \"b\": 5.69, \"c\": 2.39}, {\"index\": 108, \"a\": 3.74, \"b\": 3.64, \"c\": 4.8}, {\"index\": 109, \"a\": 4.24, \"b\": 3.07, \"c\": 3.33}, {\"index\": 110, \"a\": 22.07, \"b\": 10.31, \"c\": 13.47}, {\"index\": 111, \"a\": 28.83, \"b\": 3.27, \"c\": 17.34}, {\"index\": 112, \"a\": 27.99, \"b\": 3.88, \"c\": 16.58}, {\"index\": 113, \"a\": 28.45, \"b\": 3.85, \"c\": 17.04}, {\"index\": 114, \"a\": 18.55, \"b\": 12.1, \"c\": 8.78}, {\"index\": 115, \"a\": 18.19, \"b\": 12.4, \"c\": 8.41}, {\"index\": 116, \"a\": 13.66, \"b\": 16.86, \"c\": 7.44}, {\"index\": 117, \"a\": 17.04, \"b\": 13.68, \"c\": 8.01}, {\"index\": 118, \"a\": 14.4, \"b\": 16.22, \"c\": 7.5}, {\"index\": 119, \"a\": 17.09, \"b\": 13.63, \"c\": 7.91}, {\"index\": 120, \"a\": 14.42, \"b\": 16.17, \"c\": 7.3}, {\"index\": 121, \"a\": 15.99, \"b\": 14.73, \"c\": 7.71}, {\"index\": 122, \"a\": 15.18, \"b\": 15.41, \"c\": 7.6}, {\"index\": 123, \"a\": 15.84, \"b\": 14.8, \"c\": 7.64}, {\"index\": 124, \"a\": 19.08, \"b\": 15.42, \"c\": 4.04}, {\"index\": 125, \"a\": 12.2, \"b\": 18.42, \"c\": 7.36}, {\"index\": 126, \"a\": 4.04, \"b\": 26.29, \"c\": 11.87}, {\"index\": 127, \"a\": 10.3, \"b\": 20.29, \"c\": 7.8}, {\"index\": 128, \"a\": 3.86, \"b\": 26.61, \"c\": 11.87}, {\"index\": 129, \"a\": 9.82, \"b\": 20.86, \"c\": 8.15}, {\"index\": 130, \"a\": 3.75, \"b\": 26.61, \"c\": 11.94}, {\"index\": 131, \"a\": 6.68, \"b\": 23.86, \"c\": 9.89}, {\"index\": 132, \"a\": 5.99, \"b\": 24.36, \"c\": 10.19}, {\"index\": 133, \"a\": 11.55, \"b\": 7.4, \"c\": 9.46}, {\"index\": 134, \"a\": 11.66, \"b\": 5.6, \"c\": 12.59}, {\"index\": 135, \"a\": 11.42, \"b\": 9.78, \"c\": 11.52}, {\"index\": 136, \"a\": 11.81, \"b\": 6.23, \"c\": 12.06}, {\"index\": 137, \"a\": 12.02, \"b\": 7.42, \"c\": 10.42}, {\"index\": 138, \"a\": 12.79, \"b\": 6.28, \"c\": 11.99}, {\"index\": 139, \"a\": 11.66, \"b\": 7.07, \"c\": 10.69}, {\"index\": 140, \"a\": 12.12, \"b\": 6.65, \"c\": 11.8}, {\"index\": 141, \"a\": 11.87, \"b\": 7.12, \"c\": 10.71}, {\"index\": 142, \"a\": 12.41, \"b\": 7.13, \"c\": 11.64}, {\"index\": 143, \"a\": 12.16, \"b\": 6.94, \"c\": 11.55}, {\"index\": 144, \"a\": 11.71, \"b\": 6.8, \"c\": 10.81}, {\"index\": 145, \"a\": 12.42, \"b\": 7.55, \"c\": 10.98}, {\"index\": 146, \"a\": 11.73, \"b\": 6.7, \"c\": 11.03}, {\"index\": 147, \"a\": 11.79, \"b\": 6.68, \"c\": 11.06}, {\"index\": 148, \"a\": 11.4, \"b\": 6.55, \"c\": 10.78}, {\"index\": 149, \"a\": 10.47, \"b\": 5.65, \"c\": 10.72}, {\"index\": 150, \"a\": 7.82, \"b\": 6.57, \"c\": 10.01}, {\"index\": 151, \"a\": 10.39, \"b\": 7.1, \"c\": 8.85}, {\"index\": 152, \"a\": 10.76, \"b\": 6.69, \"c\": 9.92}, {\"index\": 153, \"a\": 11.06, \"b\": 7.41, \"c\": 9.13}, {\"index\": 154, \"a\": 10.28, \"b\": 6.13, \"c\": 9.97}, {\"index\": 155, \"a\": 11.25, \"b\": 7.28, \"c\": 9.6}, {\"index\": 156, \"a\": 11.2, \"b\": 7.37, \"c\": 9.38}, {\"index\": 157, \"a\": 9.58, \"b\": 3.96, \"c\": 4.8}, {\"index\": 158, \"a\": 9.44, \"b\": 3.72, \"c\": 4.8}, {\"index\": 159, \"a\": 9.68, \"b\": 3.85, \"c\": 4.93}, {\"index\": 160, \"a\": 9.68, \"b\": 3.82, \"c\": 5.04}, {\"index\": 161, \"a\": 9.51, \"b\": 3.83, \"c\": 4.89}, {\"index\": 162, \"a\": 9.59, \"b\": 3.68, \"c\": 5.11}, {\"index\": 163, \"a\": 9.34, \"b\": 3.66, \"c\": 4.77}, {\"index\": 164, \"a\": 9.38, \"b\": 3.33, \"c\": 5.19}, {\"index\": 165, \"a\": 9.39, \"b\": 3.37, \"c\": 5.3}, {\"index\": 166, \"a\": 9.48, \"b\": 3.41, \"c\": 5.36}, {\"index\": 167, \"a\": 9.59, \"b\": 3.47, \"c\": 5.4}, {\"index\": 168, \"a\": 7.39, \"b\": 5.63, \"c\": 5.85}, {\"index\": 169, \"a\": 8.32, \"b\": 4.98, \"c\": 6.28}, {\"index\": 170, \"a\": 12.38, \"b\": 6.15, \"c\": 8.73}, {\"index\": 171, \"a\": 12.32, \"b\": 6.18, \"c\": 8.49}, {\"index\": 172, \"a\": 11.99, \"b\": 8.34, \"c\": 5.23}, {\"index\": 173, \"a\": 12.61, \"b\": 6.45, \"c\": 8.5}, {\"index\": 174, \"a\": 11.04, \"b\": 7.19, \"c\": 5.24}, {\"index\": 175, \"a\": 10.82, \"b\": 6.87, \"c\": 5.24}, {\"index\": 176, \"a\": 12.08, \"b\": 6.03, \"c\": 8.18}, {\"index\": 177, \"a\": 12.74, \"b\": 6.69, \"c\": 8.04}, {\"index\": 178, \"a\": 11.02, \"b\": 6.44, \"c\": 6.18}, {\"index\": 179, \"a\": 12.21, \"b\": 6.44, \"c\": 7.71}, {\"index\": 180, \"a\": 5.78, \"b\": 5.75, \"c\": 7.43}, {\"index\": 181, \"a\": 11.95, \"b\": 6.18, \"c\": 7.8}, {\"index\": 182, \"a\": 10.29, \"b\": 5.64, \"c\": 6.46}, {\"index\": 183, \"a\": 11.13, \"b\": 5.27, \"c\": 7.89}, {\"index\": 184, \"a\": 10.41, \"b\": 4.73, \"c\": 5.92}, {\"index\": 185, \"a\": 10.09, \"b\": 3.67, \"c\": 8.35}, {\"index\": 186, \"a\": 11.28, \"b\": 5.09, \"c\": 8.22}, {\"index\": 187, \"a\": 10.97, \"b\": 5.0, \"c\": 8.74}, {\"index\": 188, \"a\": 9.87, \"b\": 3.91, \"c\": 7.9}, {\"index\": 189, \"a\": 10.8, \"b\": 4.57, \"c\": 8.14}, {\"index\": 190, \"a\": 10.11, \"b\": 4.09, \"c\": 8.05}, {\"index\": 191, \"a\": 10.35, \"b\": 3.67, \"c\": 8.62}, {\"index\": 192, \"a\": 10.55, \"b\": 4.1, \"c\": 8.38}, {\"index\": 193, \"a\": 9.21, \"b\": 3.59, \"c\": 7.98}, {\"index\": 194, \"a\": 9.62, \"b\": 4.88, \"c\": 6.78}, {\"index\": 195, \"a\": 9.85, \"b\": 4.76, \"c\": 6.78}, {\"index\": 196, \"a\": 9.83, \"b\": 4.66, \"c\": 7.17}, {\"index\": 197, \"a\": 10.4, \"b\": 4.23, \"c\": 8.55}, {\"index\": 198, \"a\": 10.41, \"b\": 4.33, \"c\": 8.39}, {\"index\": 199, \"a\": 9.26, \"b\": 3.52, \"c\": 14.04}, {\"index\": 200, \"a\": 9.42, \"b\": 3.93, \"c\": 13.91}, {\"index\": 201, \"a\": 9.55, \"b\": 3.98, \"c\": 13.88}, {\"index\": 202, \"a\": 7.84, \"b\": 12.83, \"c\": 4.86}, {\"index\": 203, \"a\": 9.51, \"b\": 4.17, \"c\": 13.38}, {\"index\": 204, \"a\": 7.67, \"b\": 12.83, \"c\": 4.91}, {\"index\": 205, \"a\": 8.84, \"b\": 4.27, \"c\": 13.42}, {\"index\": 206, \"a\": 8.96, \"b\": 11.02, \"c\": 7.31}, {\"index\": 207, \"a\": 8.92, \"b\": 4.34, \"c\": 13.31}, {\"index\": 208, \"a\": 6.96, \"b\": 11.2, \"c\": 6.28}, {\"index\": 209, \"a\": 8.64, \"b\": 4.6, \"c\": 13.08}, {\"index\": 210, \"a\": 7.1, \"b\": 10.83, \"c\": 6.75}, {\"index\": 211, \"a\": 8.39, \"b\": 4.91, \"c\": 12.65}, {\"index\": 212, \"a\": 6.99, \"b\": 10.73, \"c\": 6.83}, {\"index\": 213, \"a\": 8.51, \"b\": 5.07, \"c\": 12.59}, {\"index\": 214, \"a\": 6.94, \"b\": 10.73, \"c\": 6.92}, {\"index\": 215, \"a\": 8.52, \"b\": 5.09, \"c\": 12.54}, {\"index\": 216, \"a\": 7.47, \"b\": 10.53, \"c\": 7.29}, {\"index\": 217, \"a\": 8.93, \"b\": 5.49, \"c\": 12.51}, {\"index\": 218, \"a\": 7.72, \"b\": 10.41, \"c\": 7.33}, {\"index\": 219, \"a\": 8.39, \"b\": 5.23, \"c\": 12.43}, {\"index\": 220, \"a\": 7.13, \"b\": 10.18, \"c\": 7.49}, {\"index\": 221, \"a\": 8.32, \"b\": 5.26, \"c\": 12.37}, {\"index\": 222, \"a\": 7.2, \"b\": 10.05, \"c\": 7.63}, {\"index\": 223, \"a\": 7.1, \"b\": 5.48, \"c\": 12.21}, {\"index\": 224, \"a\": 7.18, \"b\": 10.0, \"c\": 7.69}, {\"index\": 225, \"a\": 8.25, \"b\": 5.56, \"c\": 12.13}, {\"index\": 226, \"a\": 7.06, \"b\": 9.97, \"c\": 7.6}, {\"index\": 227, \"a\": 7.97, \"b\": 5.58, \"c\": 11.97}, {\"index\": 228, \"a\": 7.81, \"b\": 6.11, \"c\": 11.55}, {\"index\": 229, \"a\": 8.21, \"b\": 5.94, \"c\": 11.73}, {\"index\": 230, \"a\": 6.91, \"b\": 9.95, \"c\": 7.63}, {\"index\": 231, \"a\": 8.36, \"b\": 6.05, \"c\": 11.66}, {\"index\": 232, \"a\": 7.02, \"b\": 9.73, \"c\": 7.89}, {\"index\": 233, \"a\": 7.57, \"b\": 6.38, \"c\": 11.31}, {\"index\": 234, \"a\": 6.93, \"b\": 9.53, \"c\": 7.99}, {\"index\": 235, \"a\": 7.66, \"b\": 6.39, \"c\": 11.24}, {\"index\": 236, \"a\": 6.9, \"b\": 9.44, \"c\": 8.23}, {\"index\": 237, \"a\": 7.58, \"b\": 6.56, \"c\": 11.08}, {\"index\": 238, \"a\": 7.09, \"b\": 9.11, \"c\": 8.61}, {\"index\": 239, \"a\": 7.48, \"b\": 6.81, \"c\": 10.99}, {\"index\": 240, \"a\": 7.51, \"b\": 8.82, \"c\": 8.93}, {\"index\": 241, \"a\": 10.33, \"b\": 9.15, \"c\": 9.54}, {\"index\": 242, \"a\": 10.35, \"b\": 9.64, \"c\": 9.45}, {\"index\": 243, \"a\": 9.7, \"b\": 2.45, \"c\": 15.68}, {\"index\": 244, \"a\": 9.21, \"b\": 4.58, \"c\": 13.46}, {\"index\": 245, \"a\": 8.97, \"b\": 5.0, \"c\": 12.99}, {\"index\": 246, \"a\": 8.6, \"b\": 8.01, \"c\": 9.93}, {\"index\": 247, \"a\": 8.99, \"b\": 5.4, \"c\": 12.65}, {\"index\": 248, \"a\": 8.7, \"b\": 7.89, \"c\": 10.02}, {\"index\": 249, \"a\": 8.66, \"b\": 5.55, \"c\": 12.36}, {\"index\": 250, \"a\": 9.01, \"b\": 7.67, \"c\": 10.3}, {\"index\": 251, \"a\": 8.87, \"b\": 5.62, \"c\": 12.19}, {\"index\": 252, \"a\": 9.28, \"b\": 7.05, \"c\": 11.11}, {\"index\": 253, \"a\": 9.34, \"b\": 5.73, \"c\": 12.18}, {\"index\": 254, \"a\": 8.91, \"b\": 6.65, \"c\": 11.38}, {\"index\": 255, \"a\": 9.0, \"b\": 10.03, \"c\": 8.03}, {\"index\": 256, \"a\": 9.94, \"b\": 11.56, \"c\": 6.48}, {\"index\": 257, \"a\": 9.73, \"b\": 10.73, \"c\": 7.22}, {\"index\": 258, \"a\": 9.37, \"b\": 10.59, \"c\": 7.33}, {\"index\": 259, \"a\": 9.67, \"b\": 10.88, \"c\": 7.18}, {\"index\": 260, \"a\": 7.97, \"b\": 6.47, \"c\": 11.2}, {\"index\": 261, \"a\": 7.98, \"b\": 8.7, \"c\": 9.21}, {\"index\": 262, \"a\": 8.07, \"b\": 6.81, \"c\": 10.98}, {\"index\": 263, \"a\": 8.69, \"b\": 8.13, \"c\": 10.06}, {\"index\": 264, \"a\": 8.21, \"b\": 6.81, \"c\": 11.0}, {\"index\": 265, \"a\": 7.07, \"b\": 8.31, \"c\": 9.42}, {\"index\": 266, \"a\": 8.3, \"b\": 6.69, \"c\": 11.06}, {\"index\": 267, \"a\": 7.3, \"b\": 8.23, \"c\": 9.46}, {\"index\": 268, \"a\": 8.29, \"b\": 6.95, \"c\": 10.93}, {\"index\": 269, \"a\": 7.27, \"b\": 8.02, \"c\": 9.69}, {\"index\": 270, \"a\": 8.36, \"b\": 7.01, \"c\": 10.88}, {\"index\": 271, \"a\": 7.33, \"b\": 7.74, \"c\": 10.21}, {\"index\": 272, \"a\": 8.46, \"b\": 6.89, \"c\": 10.98}, {\"index\": 273, \"a\": 8.83, \"b\": 7.66, \"c\": 10.48}, {\"index\": 274, \"a\": 7.82, \"b\": 7.24, \"c\": 10.46}, {\"index\": 275, \"a\": 7.97, \"b\": 7.48, \"c\": 10.29}, {\"index\": 276, \"a\": 7.55, \"b\": 7.8, \"c\": 9.88}, {\"index\": 277, \"a\": 10.02, \"b\": 14.83, \"c\": 3.77}, {\"index\": 278, \"a\": 10.56, \"b\": 14.86, \"c\": 4.28}, {\"index\": 279, \"a\": 10.85, \"b\": 14.95, \"c\": 4.58}, {\"index\": 280, \"a\": 11.85, \"b\": 5.95, \"c\": 10.35}, {\"index\": 281, \"a\": 11.86, \"b\": 7.05, \"c\": 8.8}, {\"index\": 282, \"a\": 9.78, \"b\": 6.72, \"c\": 7.02}, {\"index\": 283, \"a\": 11.49, \"b\": 4.84, \"c\": 10.75}, {\"index\": 284, \"a\": 10.11, \"b\": 7.27, \"c\": 6.65}, {\"index\": 285, \"a\": 11.26, \"b\": 3.98, \"c\": 11.48}, {\"index\": 286, \"a\": 10.84, \"b\": 3.68, \"c\": 11.22}, {\"index\": 287, \"a\": 11.27, \"b\": 5.06, \"c\": 10.33}, {\"index\": 288, \"a\": 11.32, \"b\": 5.18, \"c\": 10.2}, {\"index\": 289, \"a\": 10.67, \"b\": 4.9, \"c\": 9.88}, {\"index\": 290, \"a\": 10.78, \"b\": 4.99, \"c\": 9.8}, {\"index\": 291, \"a\": 11.35, \"b\": 5.45, \"c\": 9.9}, {\"index\": 292, \"a\": 11.26, \"b\": 5.65, \"c\": 9.75}, {\"index\": 293, \"a\": 11.12, \"b\": 5.65, \"c\": 9.57}, {\"index\": 294, \"a\": 11.04, \"b\": 5.8, \"c\": 9.36}, {\"index\": 295, \"a\": 11.06, \"b\": 6.11, \"c\": 9.14}, {\"index\": 296, \"a\": 10.76, \"b\": 5.9, \"c\": 8.82}, {\"index\": 297, \"a\": 10.29, \"b\": 7.32, \"c\": 6.74}, {\"index\": 298, \"a\": 11.09, \"b\": 6.56, \"c\": 8.52}, {\"index\": 299, \"a\": 10.48, \"b\": 6.15, \"c\": 8.17}, {\"index\": 300, \"a\": 5.85, \"b\": 5.29, \"c\": 8.41}, {\"index\": 301, \"a\": 9.72, \"b\": 5.21, \"c\": 8.59}, {\"index\": 302, \"a\": 10.0, \"b\": 5.15, \"c\": 9.01}, {\"index\": 303, \"a\": 5.54, \"b\": 3.08, \"c\": 10.73}, {\"index\": 304, \"a\": 9.07, \"b\": 2.07, \"c\": 11.35}]}}, {\"mode\": \"vega-lite\"});\n",
       "</script>"
      ],
      "text/plain": [
       "alt.Chart(...)"
      ]
     },
     "execution_count": 6,
     "metadata": {},
     "output_type": "execute_result"
    }
   ],
   "source": [
    "alt.Chart(distances.reset_index(), width=800, height=120).mark_line().encode(x='index', y='b').interactive()"
   ]
  },
  {
   "cell_type": "code",
   "execution_count": 7,
   "metadata": {},
   "outputs": [
    {
     "data": {
      "text/html": [
       "\n",
       "<div id=\"altair-viz-4\"></div>\n",
       "<script type=\"text/javascript\">\n",
       "  (function(spec, embedOpt){\n",
       "    const outputDiv = document.getElementById(\"altair-viz-4\");\n",
       "    const paths = {\n",
       "      \"vega\": \"https://cdn.jsdelivr.net/npm//vega@5?noext\",\n",
       "      \"vega-lib\": \"https://cdn.jsdelivr.net/npm//vega-lib?noext\",\n",
       "      \"vega-lite\": \"https://cdn.jsdelivr.net/npm//vega-lite@4.0.0?noext\",\n",
       "      \"vega-embed\": \"https://cdn.jsdelivr.net/npm//vega-embed@6?noext\",\n",
       "    };\n",
       "\n",
       "    function loadScript(lib) {\n",
       "      return new Promise(function(resolve, reject) {\n",
       "        var s = document.createElement('script');\n",
       "        s.src = paths[lib];\n",
       "        s.async = true;\n",
       "        s.onload = () => resolve(paths[lib]);\n",
       "        s.onerror = () => reject(`Error loading script: ${paths[lib]}`);\n",
       "        document.getElementsByTagName(\"head\")[0].appendChild(s);\n",
       "      });\n",
       "    }\n",
       "\n",
       "    function showError(err) {\n",
       "      outputDiv.innerHTML = `<div class=\"error\" style=\"color:red;\">${err}</div>`;\n",
       "      throw err;\n",
       "    }\n",
       "\n",
       "    function displayChart(vegaEmbed) {\n",
       "      vegaEmbed(outputDiv, spec, embedOpt)\n",
       "        .catch(err => showError(`Javascript Error: ${err.message}<br>This usually means there's a typo in your chart specification. See the javascript console for the full traceback.`));\n",
       "    }\n",
       "\n",
       "    if(typeof define === \"function\" && define.amd) {\n",
       "      requirejs.config({paths});\n",
       "      require([\"vega-embed\"], displayChart, err => showError(`Error loading script: ${err.message}`));\n",
       "    } else if (typeof vegaEmbed === \"function\") {\n",
       "      displayChart(vegaEmbed);\n",
       "    } else {\n",
       "      loadScript(\"vega\")\n",
       "        .then(() => loadScript(\"vega-lite\"))\n",
       "        .then(() => loadScript(\"vega-embed\"))\n",
       "        .catch(showError)\n",
       "        .then(() => displayChart(vegaEmbed));\n",
       "    }\n",
       "  })({\"config\": {\"view\": {\"continuousWidth\": 400, \"continuousHeight\": 300}}, \"data\": {\"name\": \"data-25ea7f35e4b27aa2c8822cccda32f21c\"}, \"mark\": \"line\", \"encoding\": {\"x\": {\"type\": \"quantitative\", \"field\": \"index\"}, \"y\": {\"type\": \"quantitative\", \"field\": \"c\"}}, \"height\": 120, \"selection\": {\"selector003\": {\"type\": \"interval\", \"bind\": \"scales\", \"encodings\": [\"x\", \"y\"]}}, \"width\": 800, \"$schema\": \"https://vega.github.io/schema/vega-lite/v4.0.0.json\", \"datasets\": {\"data-25ea7f35e4b27aa2c8822cccda32f21c\": [{\"index\": 0, \"a\": 2.59, \"b\": 5.27, \"c\": 3.38}, {\"index\": 1, \"a\": 4.81, \"b\": 0.83, \"c\": 7.08}, {\"index\": 2, \"a\": 2.34, \"b\": 4.95, \"c\": 3.51}, {\"index\": 3, \"a\": 4.1, \"b\": 1.34, \"c\": 6.35}, {\"index\": 4, \"a\": 2.1, \"b\": 5.24, \"c\": 3.85}, {\"index\": 5, \"a\": 3.14, \"b\": 2.54, \"c\": 6.73}, {\"index\": 6, \"a\": 2.0, \"b\": 5.03, \"c\": 3.94}, {\"index\": 7, \"a\": 2.88, \"b\": 2.61, \"c\": 6.07}, {\"index\": 8, \"a\": 1.93, \"b\": 4.73, \"c\": 4.14}, {\"index\": 9, \"a\": 4.33, \"b\": 1.82, \"c\": 5.39}, {\"index\": 10, \"a\": 2.06, \"b\": 4.87, \"c\": 4.01}, {\"index\": 11, \"a\": 2.04, \"b\": 4.87, \"c\": 4.06}, {\"index\": 12, \"a\": 4.47, \"b\": 1.73, \"c\": 5.62}, {\"index\": 13, \"a\": 2.37, \"b\": 4.71, \"c\": 3.64}, {\"index\": 14, \"a\": 3.52, \"b\": 2.63, \"c\": 4.8}, {\"index\": 15, \"a\": 2.08, \"b\": 4.82, \"c\": 3.93}, {\"index\": 16, \"a\": 3.19, \"b\": 3.47, \"c\": 4.12}, {\"index\": 17, \"a\": 2.29, \"b\": 4.63, \"c\": 3.79}, {\"index\": 18, \"a\": 2.47, \"b\": 4.49, \"c\": 3.76}, {\"index\": 19, \"a\": 2.33, \"b\": 4.57, \"c\": 3.87}, {\"index\": 20, \"a\": 2.33, \"b\": 4.33, \"c\": 4.07}, {\"index\": 21, \"a\": 2.32, \"b\": 4.51, \"c\": 4.0}, {\"index\": 22, \"a\": 2.27, \"b\": 4.57, \"c\": 3.95}, {\"index\": 23, \"a\": 2.19, \"b\": 3.23, \"c\": 5.87}, {\"index\": 24, \"a\": 1.92, \"b\": 4.5, \"c\": 4.36}, {\"index\": 25, \"a\": 2.19, \"b\": 3.25, \"c\": 5.78}, {\"index\": 26, \"a\": 1.62, \"b\": 3.84, \"c\": 5.31}, {\"index\": 27, \"a\": 2.03, \"b\": 4.29, \"c\": 4.27}, {\"index\": 28, \"a\": 1.84, \"b\": 3.98, \"c\": 4.92}, {\"index\": 29, \"a\": 2.31, \"b\": 4.35, \"c\": 4.15}, {\"index\": 30, \"a\": 1.76, \"b\": 4.15, \"c\": 4.82}, {\"index\": 31, \"a\": 2.71, \"b\": 2.8, \"c\": 6.56}, {\"index\": 32, \"a\": 4.58, \"b\": 12.5, \"c\": 8.52}, {\"index\": 33, \"a\": 10.98, \"b\": 3.59, \"c\": 6.68}, {\"index\": 34, \"a\": 1.49, \"b\": 13.01, \"c\": 12.09}, {\"index\": 35, \"a\": 10.57, \"b\": 4.17, \"c\": 6.48}, {\"index\": 36, \"a\": 1.85, \"b\": 12.63, \"c\": 11.67}, {\"index\": 37, \"a\": 10.3, \"b\": 4.23, \"c\": 7.46}, {\"index\": 38, \"a\": 10.18, \"b\": 4.43, \"c\": 7.49}, {\"index\": 39, \"a\": 3.57, \"b\": 10.81, \"c\": 9.99}, {\"index\": 40, \"a\": 10.0, \"b\": 4.49, \"c\": 7.62}, {\"index\": 41, \"a\": 3.81, \"b\": 33.0, \"c\": 9.83}, {\"index\": 42, \"a\": 9.7, \"b\": 5.03, \"c\": 6.2}, {\"index\": 43, \"a\": 9.31, \"b\": 5.57, \"c\": 5.79}, {\"index\": 44, \"a\": 9.18, \"b\": 5.58, \"c\": 6.2}, {\"index\": 45, \"a\": 5.23, \"b\": 9.28, \"c\": 8.56}, {\"index\": 46, \"a\": 8.96, \"b\": 5.75, \"c\": 6.3}, {\"index\": 47, \"a\": 5.98, \"b\": 8.46, \"c\": 8.98}, {\"index\": 48, \"a\": 9.18, \"b\": 5.33, \"c\": 6.58}, {\"index\": 49, \"a\": 6.09, \"b\": 8.39, \"c\": 8.71}, {\"index\": 50, \"a\": 9.15, \"b\": 5.37, \"c\": 6.74}, {\"index\": 51, \"a\": 6.38, \"b\": 8.28, \"c\": 7.61}, {\"index\": 52, \"a\": 9.2, \"b\": 5.29, \"c\": 7.14}, {\"index\": 53, \"a\": 6.86, \"b\": 7.74, \"c\": 7.3}, {\"index\": 54, \"a\": 9.11, \"b\": 5.26, \"c\": 7.7}, {\"index\": 55, \"a\": 6.93, \"b\": 7.74, \"c\": 7.15}, {\"index\": 56, \"a\": 9.1, \"b\": 5.41, \"c\": 7.91}, {\"index\": 57, \"a\": 7.45, \"b\": 7.23, \"c\": 6.91}, {\"index\": 58, \"a\": 8.76, \"b\": 5.77, \"c\": 7.98}, {\"index\": 59, \"a\": 7.82, \"b\": 6.77, \"c\": 6.82}, {\"index\": 60, \"a\": 8.61, \"b\": 5.8, \"c\": 7.54}, {\"index\": 61, \"a\": 7.83, \"b\": 6.74, \"c\": 7.1}, {\"index\": 62, \"a\": 8.67, \"b\": 5.84, \"c\": 7.82}, {\"index\": 63, \"a\": 7.72, \"b\": 6.86, \"c\": 7.18}, {\"index\": 64, \"a\": 8.15, \"b\": 6.32, \"c\": 7.84}, {\"index\": 65, \"a\": 7.87, \"b\": 6.63, \"c\": 7.23}, {\"index\": 66, \"a\": 8.49, \"b\": 5.99, \"c\": 8.09}, {\"index\": 67, \"a\": 7.96, \"b\": 6.58, \"c\": 7.44}, {\"index\": 68, \"a\": 8.09, \"b\": 6.36, \"c\": 8.41}, {\"index\": 69, \"a\": 7.92, \"b\": 6.5, \"c\": 7.54}, {\"index\": 70, \"a\": 7.68, \"b\": 6.77, \"c\": 8.44}, {\"index\": 71, \"a\": 6.91, \"b\": 7.57, \"c\": 7.65}, {\"index\": 72, \"a\": 7.3, \"b\": 7.13, \"c\": 8.25}, {\"index\": 73, \"a\": 6.84, \"b\": 7.62, \"c\": 7.86}, {\"index\": 74, \"a\": 7.2, \"b\": 7.23, \"c\": 7.95}, {\"index\": 75, \"a\": 8.46, \"b\": 6.24, \"c\": 4.46}, {\"index\": 76, \"a\": 7.11, \"b\": 7.83, \"c\": 9.86}, {\"index\": 77, \"a\": 8.07, \"b\": 6.51, \"c\": 8.77}, {\"index\": 78, \"a\": 7.7, \"b\": 7.19, \"c\": 9.62}, {\"index\": 79, \"a\": 9.04, \"b\": 6.06, \"c\": 9.77}, {\"index\": 80, \"a\": 9.97, \"b\": 4.51, \"c\": 8.18}, {\"index\": 81, \"a\": 9.17, \"b\": 5.95, \"c\": 9.61}, {\"index\": 82, \"a\": 9.12, \"b\": 6.22, \"c\": 10.05}, {\"index\": 83, \"a\": 10.01, \"b\": 4.58, \"c\": 8.38}, {\"index\": 84, \"a\": 9.89, \"b\": 5.41, \"c\": 9.25}, {\"index\": 85, \"a\": 10.03, \"b\": 4.55, \"c\": 8.48}, {\"index\": 86, \"a\": 10.0, \"b\": 5.01, \"c\": 6.11}, {\"index\": 87, \"a\": 10.08, \"b\": 4.49, \"c\": 8.7}, {\"index\": 88, \"a\": 9.73, \"b\": 5.06, \"c\": 9.25}, {\"index\": 89, \"a\": 10.37, \"b\": 4.3, \"c\": 8.75}, {\"index\": 90, \"a\": 9.49, \"b\": 5.2, \"c\": 9.0}, {\"index\": 91, \"a\": 10.58, \"b\": 4.15, \"c\": 8.41}, {\"index\": 92, \"a\": 9.36, \"b\": 5.41, \"c\": 9.04}, {\"index\": 93, \"a\": 9.54, \"b\": 5.02, \"c\": 8.63}, {\"index\": 94, \"a\": 9.76, \"b\": 4.89, \"c\": 8.33}, {\"index\": 95, \"a\": 3.28, \"b\": 4.08, \"c\": 5.89}, {\"index\": 96, \"a\": 5.13, \"b\": 3.27, \"c\": 3.48}, {\"index\": 97, \"a\": 5.29, \"b\": 3.44, \"c\": 3.12}, {\"index\": 98, \"a\": 5.71, \"b\": 4.05, \"c\": 2.31}, {\"index\": 99, \"a\": 3.49, \"b\": 3.85, \"c\": 5.38}, {\"index\": 100, \"a\": 3.68, \"b\": 3.63, \"c\": 4.91}, {\"index\": 101, \"a\": 5.56, \"b\": 4.07, \"c\": 2.68}, {\"index\": 102, \"a\": 4.79, \"b\": 3.36, \"c\": 3.64}, {\"index\": 103, \"a\": 4.36, \"b\": 4.01, \"c\": 3.79}, {\"index\": 104, \"a\": 5.52, \"b\": 4.68, \"c\": 2.3}, {\"index\": 105, \"a\": 5.71, \"b\": 5.14, \"c\": 2.22}, {\"index\": 106, \"a\": 5.75, \"b\": 5.12, \"c\": 1.86}, {\"index\": 107, \"a\": 5.52, \"b\": 5.69, \"c\": 2.39}, {\"index\": 108, \"a\": 3.74, \"b\": 3.64, \"c\": 4.8}, {\"index\": 109, \"a\": 4.24, \"b\": 3.07, \"c\": 3.33}, {\"index\": 110, \"a\": 22.07, \"b\": 10.31, \"c\": 13.47}, {\"index\": 111, \"a\": 28.83, \"b\": 3.27, \"c\": 17.34}, {\"index\": 112, \"a\": 27.99, \"b\": 3.88, \"c\": 16.58}, {\"index\": 113, \"a\": 28.45, \"b\": 3.85, \"c\": 17.04}, {\"index\": 114, \"a\": 18.55, \"b\": 12.1, \"c\": 8.78}, {\"index\": 115, \"a\": 18.19, \"b\": 12.4, \"c\": 8.41}, {\"index\": 116, \"a\": 13.66, \"b\": 16.86, \"c\": 7.44}, {\"index\": 117, \"a\": 17.04, \"b\": 13.68, \"c\": 8.01}, {\"index\": 118, \"a\": 14.4, \"b\": 16.22, \"c\": 7.5}, {\"index\": 119, \"a\": 17.09, \"b\": 13.63, \"c\": 7.91}, {\"index\": 120, \"a\": 14.42, \"b\": 16.17, \"c\": 7.3}, {\"index\": 121, \"a\": 15.99, \"b\": 14.73, \"c\": 7.71}, {\"index\": 122, \"a\": 15.18, \"b\": 15.41, \"c\": 7.6}, {\"index\": 123, \"a\": 15.84, \"b\": 14.8, \"c\": 7.64}, {\"index\": 124, \"a\": 19.08, \"b\": 15.42, \"c\": 4.04}, {\"index\": 125, \"a\": 12.2, \"b\": 18.42, \"c\": 7.36}, {\"index\": 126, \"a\": 4.04, \"b\": 26.29, \"c\": 11.87}, {\"index\": 127, \"a\": 10.3, \"b\": 20.29, \"c\": 7.8}, {\"index\": 128, \"a\": 3.86, \"b\": 26.61, \"c\": 11.87}, {\"index\": 129, \"a\": 9.82, \"b\": 20.86, \"c\": 8.15}, {\"index\": 130, \"a\": 3.75, \"b\": 26.61, \"c\": 11.94}, {\"index\": 131, \"a\": 6.68, \"b\": 23.86, \"c\": 9.89}, {\"index\": 132, \"a\": 5.99, \"b\": 24.36, \"c\": 10.19}, {\"index\": 133, \"a\": 11.55, \"b\": 7.4, \"c\": 9.46}, {\"index\": 134, \"a\": 11.66, \"b\": 5.6, \"c\": 12.59}, {\"index\": 135, \"a\": 11.42, \"b\": 9.78, \"c\": 11.52}, {\"index\": 136, \"a\": 11.81, \"b\": 6.23, \"c\": 12.06}, {\"index\": 137, \"a\": 12.02, \"b\": 7.42, \"c\": 10.42}, {\"index\": 138, \"a\": 12.79, \"b\": 6.28, \"c\": 11.99}, {\"index\": 139, \"a\": 11.66, \"b\": 7.07, \"c\": 10.69}, {\"index\": 140, \"a\": 12.12, \"b\": 6.65, \"c\": 11.8}, {\"index\": 141, \"a\": 11.87, \"b\": 7.12, \"c\": 10.71}, {\"index\": 142, \"a\": 12.41, \"b\": 7.13, \"c\": 11.64}, {\"index\": 143, \"a\": 12.16, \"b\": 6.94, \"c\": 11.55}, {\"index\": 144, \"a\": 11.71, \"b\": 6.8, \"c\": 10.81}, {\"index\": 145, \"a\": 12.42, \"b\": 7.55, \"c\": 10.98}, {\"index\": 146, \"a\": 11.73, \"b\": 6.7, \"c\": 11.03}, {\"index\": 147, \"a\": 11.79, \"b\": 6.68, \"c\": 11.06}, {\"index\": 148, \"a\": 11.4, \"b\": 6.55, \"c\": 10.78}, {\"index\": 149, \"a\": 10.47, \"b\": 5.65, \"c\": 10.72}, {\"index\": 150, \"a\": 7.82, \"b\": 6.57, \"c\": 10.01}, {\"index\": 151, \"a\": 10.39, \"b\": 7.1, \"c\": 8.85}, {\"index\": 152, \"a\": 10.76, \"b\": 6.69, \"c\": 9.92}, {\"index\": 153, \"a\": 11.06, \"b\": 7.41, \"c\": 9.13}, {\"index\": 154, \"a\": 10.28, \"b\": 6.13, \"c\": 9.97}, {\"index\": 155, \"a\": 11.25, \"b\": 7.28, \"c\": 9.6}, {\"index\": 156, \"a\": 11.2, \"b\": 7.37, \"c\": 9.38}, {\"index\": 157, \"a\": 9.58, \"b\": 3.96, \"c\": 4.8}, {\"index\": 158, \"a\": 9.44, \"b\": 3.72, \"c\": 4.8}, {\"index\": 159, \"a\": 9.68, \"b\": 3.85, \"c\": 4.93}, {\"index\": 160, \"a\": 9.68, \"b\": 3.82, \"c\": 5.04}, {\"index\": 161, \"a\": 9.51, \"b\": 3.83, \"c\": 4.89}, {\"index\": 162, \"a\": 9.59, \"b\": 3.68, \"c\": 5.11}, {\"index\": 163, \"a\": 9.34, \"b\": 3.66, \"c\": 4.77}, {\"index\": 164, \"a\": 9.38, \"b\": 3.33, \"c\": 5.19}, {\"index\": 165, \"a\": 9.39, \"b\": 3.37, \"c\": 5.3}, {\"index\": 166, \"a\": 9.48, \"b\": 3.41, \"c\": 5.36}, {\"index\": 167, \"a\": 9.59, \"b\": 3.47, \"c\": 5.4}, {\"index\": 168, \"a\": 7.39, \"b\": 5.63, \"c\": 5.85}, {\"index\": 169, \"a\": 8.32, \"b\": 4.98, \"c\": 6.28}, {\"index\": 170, \"a\": 12.38, \"b\": 6.15, \"c\": 8.73}, {\"index\": 171, \"a\": 12.32, \"b\": 6.18, \"c\": 8.49}, {\"index\": 172, \"a\": 11.99, \"b\": 8.34, \"c\": 5.23}, {\"index\": 173, \"a\": 12.61, \"b\": 6.45, \"c\": 8.5}, {\"index\": 174, \"a\": 11.04, \"b\": 7.19, \"c\": 5.24}, {\"index\": 175, \"a\": 10.82, \"b\": 6.87, \"c\": 5.24}, {\"index\": 176, \"a\": 12.08, \"b\": 6.03, \"c\": 8.18}, {\"index\": 177, \"a\": 12.74, \"b\": 6.69, \"c\": 8.04}, {\"index\": 178, \"a\": 11.02, \"b\": 6.44, \"c\": 6.18}, {\"index\": 179, \"a\": 12.21, \"b\": 6.44, \"c\": 7.71}, {\"index\": 180, \"a\": 5.78, \"b\": 5.75, \"c\": 7.43}, {\"index\": 181, \"a\": 11.95, \"b\": 6.18, \"c\": 7.8}, {\"index\": 182, \"a\": 10.29, \"b\": 5.64, \"c\": 6.46}, {\"index\": 183, \"a\": 11.13, \"b\": 5.27, \"c\": 7.89}, {\"index\": 184, \"a\": 10.41, \"b\": 4.73, \"c\": 5.92}, {\"index\": 185, \"a\": 10.09, \"b\": 3.67, \"c\": 8.35}, {\"index\": 186, \"a\": 11.28, \"b\": 5.09, \"c\": 8.22}, {\"index\": 187, \"a\": 10.97, \"b\": 5.0, \"c\": 8.74}, {\"index\": 188, \"a\": 9.87, \"b\": 3.91, \"c\": 7.9}, {\"index\": 189, \"a\": 10.8, \"b\": 4.57, \"c\": 8.14}, {\"index\": 190, \"a\": 10.11, \"b\": 4.09, \"c\": 8.05}, {\"index\": 191, \"a\": 10.35, \"b\": 3.67, \"c\": 8.62}, {\"index\": 192, \"a\": 10.55, \"b\": 4.1, \"c\": 8.38}, {\"index\": 193, \"a\": 9.21, \"b\": 3.59, \"c\": 7.98}, {\"index\": 194, \"a\": 9.62, \"b\": 4.88, \"c\": 6.78}, {\"index\": 195, \"a\": 9.85, \"b\": 4.76, \"c\": 6.78}, {\"index\": 196, \"a\": 9.83, \"b\": 4.66, \"c\": 7.17}, {\"index\": 197, \"a\": 10.4, \"b\": 4.23, \"c\": 8.55}, {\"index\": 198, \"a\": 10.41, \"b\": 4.33, \"c\": 8.39}, {\"index\": 199, \"a\": 9.26, \"b\": 3.52, \"c\": 14.04}, {\"index\": 200, \"a\": 9.42, \"b\": 3.93, \"c\": 13.91}, {\"index\": 201, \"a\": 9.55, \"b\": 3.98, \"c\": 13.88}, {\"index\": 202, \"a\": 7.84, \"b\": 12.83, \"c\": 4.86}, {\"index\": 203, \"a\": 9.51, \"b\": 4.17, \"c\": 13.38}, {\"index\": 204, \"a\": 7.67, \"b\": 12.83, \"c\": 4.91}, {\"index\": 205, \"a\": 8.84, \"b\": 4.27, \"c\": 13.42}, {\"index\": 206, \"a\": 8.96, \"b\": 11.02, \"c\": 7.31}, {\"index\": 207, \"a\": 8.92, \"b\": 4.34, \"c\": 13.31}, {\"index\": 208, \"a\": 6.96, \"b\": 11.2, \"c\": 6.28}, {\"index\": 209, \"a\": 8.64, \"b\": 4.6, \"c\": 13.08}, {\"index\": 210, \"a\": 7.1, \"b\": 10.83, \"c\": 6.75}, {\"index\": 211, \"a\": 8.39, \"b\": 4.91, \"c\": 12.65}, {\"index\": 212, \"a\": 6.99, \"b\": 10.73, \"c\": 6.83}, {\"index\": 213, \"a\": 8.51, \"b\": 5.07, \"c\": 12.59}, {\"index\": 214, \"a\": 6.94, \"b\": 10.73, \"c\": 6.92}, {\"index\": 215, \"a\": 8.52, \"b\": 5.09, \"c\": 12.54}, {\"index\": 216, \"a\": 7.47, \"b\": 10.53, \"c\": 7.29}, {\"index\": 217, \"a\": 8.93, \"b\": 5.49, \"c\": 12.51}, {\"index\": 218, \"a\": 7.72, \"b\": 10.41, \"c\": 7.33}, {\"index\": 219, \"a\": 8.39, \"b\": 5.23, \"c\": 12.43}, {\"index\": 220, \"a\": 7.13, \"b\": 10.18, \"c\": 7.49}, {\"index\": 221, \"a\": 8.32, \"b\": 5.26, \"c\": 12.37}, {\"index\": 222, \"a\": 7.2, \"b\": 10.05, \"c\": 7.63}, {\"index\": 223, \"a\": 7.1, \"b\": 5.48, \"c\": 12.21}, {\"index\": 224, \"a\": 7.18, \"b\": 10.0, \"c\": 7.69}, {\"index\": 225, \"a\": 8.25, \"b\": 5.56, \"c\": 12.13}, {\"index\": 226, \"a\": 7.06, \"b\": 9.97, \"c\": 7.6}, {\"index\": 227, \"a\": 7.97, \"b\": 5.58, \"c\": 11.97}, {\"index\": 228, \"a\": 7.81, \"b\": 6.11, \"c\": 11.55}, {\"index\": 229, \"a\": 8.21, \"b\": 5.94, \"c\": 11.73}, {\"index\": 230, \"a\": 6.91, \"b\": 9.95, \"c\": 7.63}, {\"index\": 231, \"a\": 8.36, \"b\": 6.05, \"c\": 11.66}, {\"index\": 232, \"a\": 7.02, \"b\": 9.73, \"c\": 7.89}, {\"index\": 233, \"a\": 7.57, \"b\": 6.38, \"c\": 11.31}, {\"index\": 234, \"a\": 6.93, \"b\": 9.53, \"c\": 7.99}, {\"index\": 235, \"a\": 7.66, \"b\": 6.39, \"c\": 11.24}, {\"index\": 236, \"a\": 6.9, \"b\": 9.44, \"c\": 8.23}, {\"index\": 237, \"a\": 7.58, \"b\": 6.56, \"c\": 11.08}, {\"index\": 238, \"a\": 7.09, \"b\": 9.11, \"c\": 8.61}, {\"index\": 239, \"a\": 7.48, \"b\": 6.81, \"c\": 10.99}, {\"index\": 240, \"a\": 7.51, \"b\": 8.82, \"c\": 8.93}, {\"index\": 241, \"a\": 10.33, \"b\": 9.15, \"c\": 9.54}, {\"index\": 242, \"a\": 10.35, \"b\": 9.64, \"c\": 9.45}, {\"index\": 243, \"a\": 9.7, \"b\": 2.45, \"c\": 15.68}, {\"index\": 244, \"a\": 9.21, \"b\": 4.58, \"c\": 13.46}, {\"index\": 245, \"a\": 8.97, \"b\": 5.0, \"c\": 12.99}, {\"index\": 246, \"a\": 8.6, \"b\": 8.01, \"c\": 9.93}, {\"index\": 247, \"a\": 8.99, \"b\": 5.4, \"c\": 12.65}, {\"index\": 248, \"a\": 8.7, \"b\": 7.89, \"c\": 10.02}, {\"index\": 249, \"a\": 8.66, \"b\": 5.55, \"c\": 12.36}, {\"index\": 250, \"a\": 9.01, \"b\": 7.67, \"c\": 10.3}, {\"index\": 251, \"a\": 8.87, \"b\": 5.62, \"c\": 12.19}, {\"index\": 252, \"a\": 9.28, \"b\": 7.05, \"c\": 11.11}, {\"index\": 253, \"a\": 9.34, \"b\": 5.73, \"c\": 12.18}, {\"index\": 254, \"a\": 8.91, \"b\": 6.65, \"c\": 11.38}, {\"index\": 255, \"a\": 9.0, \"b\": 10.03, \"c\": 8.03}, {\"index\": 256, \"a\": 9.94, \"b\": 11.56, \"c\": 6.48}, {\"index\": 257, \"a\": 9.73, \"b\": 10.73, \"c\": 7.22}, {\"index\": 258, \"a\": 9.37, \"b\": 10.59, \"c\": 7.33}, {\"index\": 259, \"a\": 9.67, \"b\": 10.88, \"c\": 7.18}, {\"index\": 260, \"a\": 7.97, \"b\": 6.47, \"c\": 11.2}, {\"index\": 261, \"a\": 7.98, \"b\": 8.7, \"c\": 9.21}, {\"index\": 262, \"a\": 8.07, \"b\": 6.81, \"c\": 10.98}, {\"index\": 263, \"a\": 8.69, \"b\": 8.13, \"c\": 10.06}, {\"index\": 264, \"a\": 8.21, \"b\": 6.81, \"c\": 11.0}, {\"index\": 265, \"a\": 7.07, \"b\": 8.31, \"c\": 9.42}, {\"index\": 266, \"a\": 8.3, \"b\": 6.69, \"c\": 11.06}, {\"index\": 267, \"a\": 7.3, \"b\": 8.23, \"c\": 9.46}, {\"index\": 268, \"a\": 8.29, \"b\": 6.95, \"c\": 10.93}, {\"index\": 269, \"a\": 7.27, \"b\": 8.02, \"c\": 9.69}, {\"index\": 270, \"a\": 8.36, \"b\": 7.01, \"c\": 10.88}, {\"index\": 271, \"a\": 7.33, \"b\": 7.74, \"c\": 10.21}, {\"index\": 272, \"a\": 8.46, \"b\": 6.89, \"c\": 10.98}, {\"index\": 273, \"a\": 8.83, \"b\": 7.66, \"c\": 10.48}, {\"index\": 274, \"a\": 7.82, \"b\": 7.24, \"c\": 10.46}, {\"index\": 275, \"a\": 7.97, \"b\": 7.48, \"c\": 10.29}, {\"index\": 276, \"a\": 7.55, \"b\": 7.8, \"c\": 9.88}, {\"index\": 277, \"a\": 10.02, \"b\": 14.83, \"c\": 3.77}, {\"index\": 278, \"a\": 10.56, \"b\": 14.86, \"c\": 4.28}, {\"index\": 279, \"a\": 10.85, \"b\": 14.95, \"c\": 4.58}, {\"index\": 280, \"a\": 11.85, \"b\": 5.95, \"c\": 10.35}, {\"index\": 281, \"a\": 11.86, \"b\": 7.05, \"c\": 8.8}, {\"index\": 282, \"a\": 9.78, \"b\": 6.72, \"c\": 7.02}, {\"index\": 283, \"a\": 11.49, \"b\": 4.84, \"c\": 10.75}, {\"index\": 284, \"a\": 10.11, \"b\": 7.27, \"c\": 6.65}, {\"index\": 285, \"a\": 11.26, \"b\": 3.98, \"c\": 11.48}, {\"index\": 286, \"a\": 10.84, \"b\": 3.68, \"c\": 11.22}, {\"index\": 287, \"a\": 11.27, \"b\": 5.06, \"c\": 10.33}, {\"index\": 288, \"a\": 11.32, \"b\": 5.18, \"c\": 10.2}, {\"index\": 289, \"a\": 10.67, \"b\": 4.9, \"c\": 9.88}, {\"index\": 290, \"a\": 10.78, \"b\": 4.99, \"c\": 9.8}, {\"index\": 291, \"a\": 11.35, \"b\": 5.45, \"c\": 9.9}, {\"index\": 292, \"a\": 11.26, \"b\": 5.65, \"c\": 9.75}, {\"index\": 293, \"a\": 11.12, \"b\": 5.65, \"c\": 9.57}, {\"index\": 294, \"a\": 11.04, \"b\": 5.8, \"c\": 9.36}, {\"index\": 295, \"a\": 11.06, \"b\": 6.11, \"c\": 9.14}, {\"index\": 296, \"a\": 10.76, \"b\": 5.9, \"c\": 8.82}, {\"index\": 297, \"a\": 10.29, \"b\": 7.32, \"c\": 6.74}, {\"index\": 298, \"a\": 11.09, \"b\": 6.56, \"c\": 8.52}, {\"index\": 299, \"a\": 10.48, \"b\": 6.15, \"c\": 8.17}, {\"index\": 300, \"a\": 5.85, \"b\": 5.29, \"c\": 8.41}, {\"index\": 301, \"a\": 9.72, \"b\": 5.21, \"c\": 8.59}, {\"index\": 302, \"a\": 10.0, \"b\": 5.15, \"c\": 9.01}, {\"index\": 303, \"a\": 5.54, \"b\": 3.08, \"c\": 10.73}, {\"index\": 304, \"a\": 9.07, \"b\": 2.07, \"c\": 11.35}]}}, {\"mode\": \"vega-lite\"});\n",
       "</script>"
      ],
      "text/plain": [
       "alt.Chart(...)"
      ]
     },
     "execution_count": 7,
     "metadata": {},
     "output_type": "execute_result"
    }
   ],
   "source": [
    "alt.Chart(distances.reset_index(), width=800, height=120).mark_line().encode(x='index', y='c').interactive()"
   ]
  },
  {
   "cell_type": "markdown",
   "metadata": {},
   "source": [
    "# Mean Square Error"
   ]
  },
  {
   "cell_type": "code",
   "execution_count": null,
   "metadata": {},
   "outputs": [],
   "source": [
    "def mse(x, locations, distances):\n",
    " mse = 0.0\n",
    " for location, distance in zip(locations, distances):\n",
    " distance_calculated = great_circle_distance(x[0], x[1], location[0], location[1])\n",
    " mse += math.pow(distance_calculated - distance, 2.0)\n",
    " return mse / len(data)"
   ]
  },
  {
   "cell_type": "code",
   "execution_count": null,
   "metadata": {},
   "outputs": [],
   "source": []
  },
  {
   "cell_type": "markdown",
   "metadata": {},
   "source": [
    "# Optimization"
   ]
  },
  {
   "cell_type": "code",
   "execution_count": null,
   "metadata": {},
   "outputs": [],
   "source": [
    "\n",
    "result = minimize(\n",
    " mse,                         # The error function\n",
    " initial_location,            # The initial guess\n",
    " args=(locations, distances), # Additional parameters for mse\n",
    " method='L-BFGS-B',           # The optimisation algorithm\n",
    " options={\n",
    " 'ftol':1e-5,         # Tolerance\n",
    " 'maxiter': 1e+7      # Maximum iterations\n",
    " })\n",
    "location = result.x"
   ]
  },
  {
   "cell_type": "code",
   "execution_count": null,
   "metadata": {},
   "outputs": [],
   "source": [
    "# Initial point: the point with the closest distance\n",
    "min_distance     = float('inf')\n",
    "closest_location = None\n",
    "for member in data:\n",
    "    # A new closest point!\n",
    "    if member['distance'] < min_distance:\n",
    "        min_distance = member['distance']\n",
    "        closest_location = member['location']\n",
    "initial_location = closest_location"
   ]
  }
 ],
 "metadata": {
  "kernelspec": {
   "display_name": "Python 3",
   "language": "python",
   "name": "python3"
  },
  "language_info": {
   "codemirror_mode": {
    "name": "ipython",
    "version": 3
   },
   "file_extension": ".py",
   "mimetype": "text/x-python",
   "name": "python",
   "nbconvert_exporter": "python",
   "pygments_lexer": "ipython3",
   "version": "3.7.4"
  }
 },
 "nbformat": 4,
 "nbformat_minor": 2
}
